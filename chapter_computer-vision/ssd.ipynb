{
  "cells": [
    {
      "cell_type": "markdown",
      "metadata": {
        "id": "view-in-github",
        "colab_type": "text"
      },
      "source": [
        "<a href=\"https://colab.research.google.com/github/eppoha/AAA-from-colab/blob/main/chapter_computer-vision/ssd.ipynb\" target=\"_parent\"><img src=\"https://colab.research.google.com/assets/colab-badge.svg\" alt=\"Open In Colab\"/></a>"
      ]
    },
    {
      "cell_type": "markdown",
      "id": "b1510db4",
      "metadata": {
        "id": "b1510db4"
      },
      "source": [
        "The following additional libraries are needed to run this\n",
        "notebook. Note that running on Colab is experimental, please report a Github\n",
        "issue if you have any problem."
      ]
    },
    {
      "cell_type": "code",
      "execution_count": 1,
      "id": "b1541717",
      "metadata": {
        "id": "b1541717",
        "outputId": "1af3ec6d-7e95-4420-834c-4e789eec941a",
        "colab": {
          "base_uri": "https://localhost:8080/"
        }
      },
      "outputs": [
        {
          "output_type": "stream",
          "name": "stdout",
          "text": [
            "Looking in indexes: https://pypi.org/simple, https://us-python.pkg.dev/colab-wheels/public/simple/\n",
            "Collecting d2l==1.0.0-alpha0\n",
            "  Downloading d2l-1.0.0a0-py3-none-any.whl (92 kB)\n",
            "\u001b[K     |████████████████████████████████| 92 kB 986 kB/s \n",
            "\u001b[?25hRequirement already satisfied: matplotlib in /usr/local/lib/python3.7/dist-packages (from d2l==1.0.0-alpha0) (3.2.2)\n",
            "Requirement already satisfied: numpy in /usr/local/lib/python3.7/dist-packages (from d2l==1.0.0-alpha0) (1.21.6)\n",
            "Requirement already satisfied: gym in /usr/local/lib/python3.7/dist-packages (from d2l==1.0.0-alpha0) (0.17.3)\n",
            "Requirement already satisfied: pandas in /usr/local/lib/python3.7/dist-packages (from d2l==1.0.0-alpha0) (1.3.5)\n",
            "Requirement already satisfied: jupyter in /usr/local/lib/python3.7/dist-packages (from d2l==1.0.0-alpha0) (1.0.0)\n",
            "Requirement already satisfied: requests in /usr/local/lib/python3.7/dist-packages (from d2l==1.0.0-alpha0) (2.23.0)\n",
            "Requirement already satisfied: cloudpickle<1.7.0,>=1.2.0 in /usr/local/lib/python3.7/dist-packages (from gym->d2l==1.0.0-alpha0) (1.3.0)\n",
            "Requirement already satisfied: scipy in /usr/local/lib/python3.7/dist-packages (from gym->d2l==1.0.0-alpha0) (1.7.3)\n",
            "Requirement already satisfied: pyglet<=1.5.0,>=1.4.0 in /usr/local/lib/python3.7/dist-packages (from gym->d2l==1.0.0-alpha0) (1.5.0)\n",
            "Requirement already satisfied: future in /usr/local/lib/python3.7/dist-packages (from pyglet<=1.5.0,>=1.4.0->gym->d2l==1.0.0-alpha0) (0.16.0)\n",
            "Requirement already satisfied: notebook in /usr/local/lib/python3.7/dist-packages (from jupyter->d2l==1.0.0-alpha0) (5.3.1)\n",
            "Requirement already satisfied: jupyter-console in /usr/local/lib/python3.7/dist-packages (from jupyter->d2l==1.0.0-alpha0) (5.2.0)\n",
            "Requirement already satisfied: ipykernel in /usr/local/lib/python3.7/dist-packages (from jupyter->d2l==1.0.0-alpha0) (4.10.1)\n",
            "Requirement already satisfied: nbconvert in /usr/local/lib/python3.7/dist-packages (from jupyter->d2l==1.0.0-alpha0) (5.6.1)\n",
            "Requirement already satisfied: qtconsole in /usr/local/lib/python3.7/dist-packages (from jupyter->d2l==1.0.0-alpha0) (5.3.1)\n",
            "Requirement already satisfied: ipywidgets in /usr/local/lib/python3.7/dist-packages (from jupyter->d2l==1.0.0-alpha0) (7.7.1)\n",
            "Requirement already satisfied: jupyter-client in /usr/local/lib/python3.7/dist-packages (from ipykernel->jupyter->d2l==1.0.0-alpha0) (5.3.5)\n",
            "Requirement already satisfied: tornado>=4.0 in /usr/local/lib/python3.7/dist-packages (from ipykernel->jupyter->d2l==1.0.0-alpha0) (5.1.1)\n",
            "Requirement already satisfied: ipython>=4.0.0 in /usr/local/lib/python3.7/dist-packages (from ipykernel->jupyter->d2l==1.0.0-alpha0) (5.5.0)\n",
            "Requirement already satisfied: traitlets>=4.1.0 in /usr/local/lib/python3.7/dist-packages (from ipykernel->jupyter->d2l==1.0.0-alpha0) (5.1.1)\n",
            "Requirement already satisfied: simplegeneric>0.8 in /usr/local/lib/python3.7/dist-packages (from ipython>=4.0.0->ipykernel->jupyter->d2l==1.0.0-alpha0) (0.8.1)\n",
            "Requirement already satisfied: pickleshare in /usr/local/lib/python3.7/dist-packages (from ipython>=4.0.0->ipykernel->jupyter->d2l==1.0.0-alpha0) (0.7.5)\n",
            "Requirement already satisfied: decorator in /usr/local/lib/python3.7/dist-packages (from ipython>=4.0.0->ipykernel->jupyter->d2l==1.0.0-alpha0) (4.4.2)\n",
            "Requirement already satisfied: pygments in /usr/local/lib/python3.7/dist-packages (from ipython>=4.0.0->ipykernel->jupyter->d2l==1.0.0-alpha0) (2.6.1)\n",
            "Requirement already satisfied: setuptools>=18.5 in /usr/local/lib/python3.7/dist-packages (from ipython>=4.0.0->ipykernel->jupyter->d2l==1.0.0-alpha0) (57.4.0)\n",
            "Requirement already satisfied: pexpect in /usr/local/lib/python3.7/dist-packages (from ipython>=4.0.0->ipykernel->jupyter->d2l==1.0.0-alpha0) (4.8.0)\n",
            "Requirement already satisfied: prompt-toolkit<2.0.0,>=1.0.4 in /usr/local/lib/python3.7/dist-packages (from ipython>=4.0.0->ipykernel->jupyter->d2l==1.0.0-alpha0) (1.0.18)\n",
            "Requirement already satisfied: six>=1.9.0 in /usr/local/lib/python3.7/dist-packages (from prompt-toolkit<2.0.0,>=1.0.4->ipython>=4.0.0->ipykernel->jupyter->d2l==1.0.0-alpha0) (1.15.0)\n",
            "Requirement already satisfied: wcwidth in /usr/local/lib/python3.7/dist-packages (from prompt-toolkit<2.0.0,>=1.0.4->ipython>=4.0.0->ipykernel->jupyter->d2l==1.0.0-alpha0) (0.2.5)\n",
            "Requirement already satisfied: widgetsnbextension~=3.6.0 in /usr/local/lib/python3.7/dist-packages (from ipywidgets->jupyter->d2l==1.0.0-alpha0) (3.6.1)\n",
            "Requirement already satisfied: jupyterlab-widgets>=1.0.0 in /usr/local/lib/python3.7/dist-packages (from ipywidgets->jupyter->d2l==1.0.0-alpha0) (1.1.1)\n",
            "Requirement already satisfied: ipython-genutils~=0.2.0 in /usr/local/lib/python3.7/dist-packages (from ipywidgets->jupyter->d2l==1.0.0-alpha0) (0.2.0)\n",
            "Requirement already satisfied: nbformat in /usr/local/lib/python3.7/dist-packages (from notebook->jupyter->d2l==1.0.0-alpha0) (5.4.0)\n",
            "Requirement already satisfied: jupyter-core>=4.4.0 in /usr/local/lib/python3.7/dist-packages (from notebook->jupyter->d2l==1.0.0-alpha0) (4.11.1)\n",
            "Requirement already satisfied: Send2Trash in /usr/local/lib/python3.7/dist-packages (from notebook->jupyter->d2l==1.0.0-alpha0) (1.8.0)\n",
            "Requirement already satisfied: terminado>=0.8.1 in /usr/local/lib/python3.7/dist-packages (from notebook->jupyter->d2l==1.0.0-alpha0) (0.13.3)\n",
            "Requirement already satisfied: jinja2 in /usr/local/lib/python3.7/dist-packages (from notebook->jupyter->d2l==1.0.0-alpha0) (2.11.3)\n",
            "Requirement already satisfied: python-dateutil>=2.1 in /usr/local/lib/python3.7/dist-packages (from jupyter-client->ipykernel->jupyter->d2l==1.0.0-alpha0) (2.8.2)\n",
            "Requirement already satisfied: pyzmq>=13 in /usr/local/lib/python3.7/dist-packages (from jupyter-client->ipykernel->jupyter->d2l==1.0.0-alpha0) (23.2.0)\n",
            "Requirement already satisfied: ptyprocess in /usr/local/lib/python3.7/dist-packages (from terminado>=0.8.1->notebook->jupyter->d2l==1.0.0-alpha0) (0.7.0)\n",
            "Requirement already satisfied: MarkupSafe>=0.23 in /usr/local/lib/python3.7/dist-packages (from jinja2->notebook->jupyter->d2l==1.0.0-alpha0) (2.0.1)\n",
            "Requirement already satisfied: kiwisolver>=1.0.1 in /usr/local/lib/python3.7/dist-packages (from matplotlib->d2l==1.0.0-alpha0) (1.4.4)\n",
            "Requirement already satisfied: pyparsing!=2.0.4,!=2.1.2,!=2.1.6,>=2.0.1 in /usr/local/lib/python3.7/dist-packages (from matplotlib->d2l==1.0.0-alpha0) (3.0.9)\n",
            "Requirement already satisfied: cycler>=0.10 in /usr/local/lib/python3.7/dist-packages (from matplotlib->d2l==1.0.0-alpha0) (0.11.0)\n",
            "Requirement already satisfied: typing-extensions in /usr/local/lib/python3.7/dist-packages (from kiwisolver>=1.0.1->matplotlib->d2l==1.0.0-alpha0) (4.1.1)\n",
            "Requirement already satisfied: mistune<2,>=0.8.1 in /usr/local/lib/python3.7/dist-packages (from nbconvert->jupyter->d2l==1.0.0-alpha0) (0.8.4)\n",
            "Requirement already satisfied: defusedxml in /usr/local/lib/python3.7/dist-packages (from nbconvert->jupyter->d2l==1.0.0-alpha0) (0.7.1)\n",
            "Requirement already satisfied: pandocfilters>=1.4.1 in /usr/local/lib/python3.7/dist-packages (from nbconvert->jupyter->d2l==1.0.0-alpha0) (1.5.0)\n",
            "Requirement already satisfied: entrypoints>=0.2.2 in /usr/local/lib/python3.7/dist-packages (from nbconvert->jupyter->d2l==1.0.0-alpha0) (0.4)\n",
            "Requirement already satisfied: testpath in /usr/local/lib/python3.7/dist-packages (from nbconvert->jupyter->d2l==1.0.0-alpha0) (0.6.0)\n",
            "Requirement already satisfied: bleach in /usr/local/lib/python3.7/dist-packages (from nbconvert->jupyter->d2l==1.0.0-alpha0) (5.0.1)\n",
            "Requirement already satisfied: fastjsonschema in /usr/local/lib/python3.7/dist-packages (from nbformat->notebook->jupyter->d2l==1.0.0-alpha0) (2.16.1)\n",
            "Requirement already satisfied: jsonschema>=2.6 in /usr/local/lib/python3.7/dist-packages (from nbformat->notebook->jupyter->d2l==1.0.0-alpha0) (4.3.3)\n",
            "Requirement already satisfied: attrs>=17.4.0 in /usr/local/lib/python3.7/dist-packages (from jsonschema>=2.6->nbformat->notebook->jupyter->d2l==1.0.0-alpha0) (22.1.0)\n",
            "Requirement already satisfied: importlib-metadata in /usr/local/lib/python3.7/dist-packages (from jsonschema>=2.6->nbformat->notebook->jupyter->d2l==1.0.0-alpha0) (4.12.0)\n",
            "Requirement already satisfied: importlib-resources>=1.4.0 in /usr/local/lib/python3.7/dist-packages (from jsonschema>=2.6->nbformat->notebook->jupyter->d2l==1.0.0-alpha0) (5.9.0)\n",
            "Requirement already satisfied: pyrsistent!=0.17.0,!=0.17.1,!=0.17.2,>=0.14.0 in /usr/local/lib/python3.7/dist-packages (from jsonschema>=2.6->nbformat->notebook->jupyter->d2l==1.0.0-alpha0) (0.18.1)\n",
            "Requirement already satisfied: zipp>=3.1.0 in /usr/local/lib/python3.7/dist-packages (from importlib-resources>=1.4.0->jsonschema>=2.6->nbformat->notebook->jupyter->d2l==1.0.0-alpha0) (3.8.1)\n",
            "Requirement already satisfied: webencodings in /usr/local/lib/python3.7/dist-packages (from bleach->nbconvert->jupyter->d2l==1.0.0-alpha0) (0.5.1)\n",
            "Requirement already satisfied: pytz>=2017.3 in /usr/local/lib/python3.7/dist-packages (from pandas->d2l==1.0.0-alpha0) (2022.1)\n",
            "Requirement already satisfied: qtpy>=2.0.1 in /usr/local/lib/python3.7/dist-packages (from qtconsole->jupyter->d2l==1.0.0-alpha0) (2.1.0)\n",
            "Requirement already satisfied: packaging in /usr/local/lib/python3.7/dist-packages (from qtpy>=2.0.1->qtconsole->jupyter->d2l==1.0.0-alpha0) (21.3)\n",
            "Requirement already satisfied: certifi>=2017.4.17 in /usr/local/lib/python3.7/dist-packages (from requests->d2l==1.0.0-alpha0) (2022.6.15)\n",
            "Requirement already satisfied: chardet<4,>=3.0.2 in /usr/local/lib/python3.7/dist-packages (from requests->d2l==1.0.0-alpha0) (3.0.4)\n",
            "Requirement already satisfied: urllib3!=1.25.0,!=1.25.1,<1.26,>=1.21.1 in /usr/local/lib/python3.7/dist-packages (from requests->d2l==1.0.0-alpha0) (1.24.3)\n",
            "Requirement already satisfied: idna<3,>=2.5 in /usr/local/lib/python3.7/dist-packages (from requests->d2l==1.0.0-alpha0) (2.10)\n",
            "Installing collected packages: d2l\n",
            "Successfully installed d2l-1.0.0a0\n",
            "Looking in indexes: https://pypi.org/simple, https://us-python.pkg.dev/colab-wheels/public/simple/\n",
            "Collecting mxnet-cu101==1.7.0\n",
            "  Downloading mxnet_cu101-1.7.0-py2.py3-none-manylinux2014_x86_64.whl (846.0 MB)\n",
            "\u001b[K     |███████████████████████████████▌| 834.1 MB 1.2 MB/s eta 0:00:10tcmalloc: large alloc 1147494400 bytes == 0x38fc8000 @  0x7f8076b5b615 0x592b76 0x4df71e 0x59afff 0x515655 0x549576 0x593fce 0x548ae9 0x51566f 0x549576 0x593fce 0x548ae9 0x5127f1 0x598e3b 0x511f68 0x598e3b 0x511f68 0x598e3b 0x511f68 0x4bc98a 0x532e76 0x594b72 0x515600 0x549576 0x593fce 0x548ae9 0x5127f1 0x549576 0x593fce 0x5118f8 0x593dd7\n",
            "\u001b[K     |████████████████████████████████| 846.0 MB 22 kB/s \n",
            "\u001b[?25hRequirement already satisfied: numpy<2.0.0,>1.16.0 in /usr/local/lib/python3.7/dist-packages (from mxnet-cu101==1.7.0) (1.21.6)\n",
            "Collecting graphviz<0.9.0,>=0.8.1\n",
            "  Downloading graphviz-0.8.4-py2.py3-none-any.whl (16 kB)\n",
            "Requirement already satisfied: requests<3,>=2.20.0 in /usr/local/lib/python3.7/dist-packages (from mxnet-cu101==1.7.0) (2.23.0)\n",
            "Requirement already satisfied: chardet<4,>=3.0.2 in /usr/local/lib/python3.7/dist-packages (from requests<3,>=2.20.0->mxnet-cu101==1.7.0) (3.0.4)\n",
            "Requirement already satisfied: certifi>=2017.4.17 in /usr/local/lib/python3.7/dist-packages (from requests<3,>=2.20.0->mxnet-cu101==1.7.0) (2022.6.15)\n",
            "Requirement already satisfied: idna<3,>=2.5 in /usr/local/lib/python3.7/dist-packages (from requests<3,>=2.20.0->mxnet-cu101==1.7.0) (2.10)\n",
            "Requirement already satisfied: urllib3!=1.25.0,!=1.25.1,<1.26,>=1.21.1 in /usr/local/lib/python3.7/dist-packages (from requests<3,>=2.20.0->mxnet-cu101==1.7.0) (1.24.3)\n",
            "Installing collected packages: graphviz, mxnet-cu101\n",
            "  Attempting uninstall: graphviz\n",
            "    Found existing installation: graphviz 0.10.1\n",
            "    Uninstalling graphviz-0.10.1:\n",
            "      Successfully uninstalled graphviz-0.10.1\n",
            "Successfully installed graphviz-0.8.4 mxnet-cu101-1.7.0\n"
          ]
        }
      ],
      "source": [
        "!pip install d2l==1.0.0-alpha0\n",
        "!pip install -U mxnet-cu101==1.7.0\n"
      ]
    },
    {
      "cell_type": "markdown",
      "id": "19a2d60d",
      "metadata": {
        "origin_pos": 0,
        "id": "19a2d60d"
      },
      "source": [
        "# Single Shot Multibox Detection\n",
        ":label:`sec_ssd`\n",
        "\n",
        "In :numref:`sec_bbox`--:numref:`sec_object-detection-dataset`,\n",
        "we introduced bounding boxes, anchor boxes,\n",
        "multiscale object detection, and the dataset for object detection.\n",
        "Now we are ready to use such background\n",
        "knowledge to design an object detection model:\n",
        "single shot multibox detection\n",
        "(SSD) :cite:`Liu.Anguelov.Erhan.ea.2016`.\n",
        "This model is simple, fast, and widely used.\n",
        "Although this is just one of vast amounts of\n",
        "object detection models,\n",
        "some of the design principles\n",
        "and implementation details in this section\n",
        "are also applicable to other models.\n",
        "\n",
        "\n",
        "## Model\n",
        "\n",
        ":numref:`fig_ssd` provides an overview of\n",
        "the design of single-shot multibox detection.\n",
        "This model mainly consists of\n",
        "a base network\n",
        "followed by\n",
        "several multiscale feature map blocks.\n",
        "The base network\n",
        "is for extracting features from the input image,\n",
        "so it can use a deep CNN.\n",
        "For example,\n",
        "the original single-shot multibox detection paper\n",
        "adopts a VGG network truncated before the\n",
        "classification layer :cite:`Liu.Anguelov.Erhan.ea.2016`,\n",
        "while ResNet has also been commonly used.\n",
        "Through our design\n",
        "we can make the base network output\n",
        "larger feature maps\n",
        "so as to generate more anchor boxes\n",
        "for detecting smaller objects.\n",
        "Subsequently,\n",
        "each multiscale feature map block\n",
        "reduces (e.g., by half)\n",
        "the height and width of the feature maps\n",
        "from the previous block,\n",
        "and enables each unit\n",
        "of the feature maps\n",
        "to increase its receptive field on the input image.\n",
        "\n",
        "\n",
        "Recall the design\n",
        "of multiscale object detection\n",
        "through layerwise representations of images by\n",
        "deep neural networks\n",
        "in :numref:`sec_multiscale-object-detection`.\n",
        "Since\n",
        "multiscale feature maps closer to the top of :numref:`fig_ssd`\n",
        "are smaller but have larger receptive fields,\n",
        "they are suitable for detecting\n",
        "fewer but larger objects.\n",
        "\n",
        "In a nutshell,\n",
        "via its base network and several multiscale feature map blocks,\n",
        "single-shot multibox detection\n",
        "generates a varying number of anchor boxes with different sizes,\n",
        "and detects varying-size objects\n",
        "by predicting classes and offsets\n",
        "of these anchor boxes (thus the bounding boxes);\n",
        "thus, this is a multiscale object detection model.\n",
        "\n",
        "\n",
        "![As a multiscale object detection model, single-shot multibox detection mainly consists of a base network followed by several multiscale feature map blocks.](http://d2l.ai/_images/ssd.svg)\n",
        ":label:`fig_ssd`\n",
        "\n",
        "\n",
        "In the following,\n",
        "we will describe the implementation details\n",
        "of different blocks in :numref:`fig_ssd`. To begin with, we discuss how to implement\n",
        "the class and bounding box prediction.\n",
        "\n",
        "\n",
        "\n",
        "### [**Class Prediction Layer**]\n",
        "\n",
        "Let the number of object classes be $q$.\n",
        "Then anchor boxes have $q+1$ classes,\n",
        "where class 0 is background.\n",
        "At some scale,\n",
        "suppose that the height and width of feature maps\n",
        "are $h$ and $w$, respectively.\n",
        "When $a$ anchor boxes\n",
        "are generated with\n",
        "each spatial position of these feature maps as their center,\n",
        "a total of $hwa$ anchor boxes need to be classified.\n",
        "This often makes classification with fully connected layers infeasible due to likely\n",
        "heavy parameterization costs.\n",
        "Recall how we used channels of\n",
        "convolutional layers\n",
        "to predict classes in :numref:`sec_nin`.\n",
        "Single-shot multibox detection uses the\n",
        "same technique to reduce model complexity.\n",
        "\n",
        "Specifically,\n",
        "the class prediction layer uses a convolutional layer\n",
        "without altering width or height of feature maps.\n",
        "In this way,\n",
        "there can be a one-to-one correspondence\n",
        "between outputs and inputs\n",
        "at the same spatial dimensions (width and height)\n",
        "of feature maps.\n",
        "More concretely,\n",
        "channels of the output feature maps\n",
        "at any spatial position ($x$, $y$)\n",
        "represent class predictions\n",
        "for all the anchor boxes centered on\n",
        "($x$, $y$) of the input feature maps.\n",
        "To produce valid predictions,\n",
        "there must be $a(q+1)$ output channels,\n",
        "where for the same spatial position\n",
        "the output channel with index $i(q+1) + j$\n",
        "represents the prediction of\n",
        "the class $j$ ($0 \\leq j \\leq q$)\n",
        "for the anchor box $i$ ($0 \\leq i < a$).\n",
        "\n",
        "Below we define such a class prediction layer,\n",
        "specifying $a$ and $q$ via arguments `num_anchors` and `num_classes`, respectively.\n",
        "This layer uses a $3\\times3$ convolutional layer with a\n",
        "padding of 1.\n",
        "The width and height of the input and output of this\n",
        "convolutional layer remain unchanged.\n"
      ]
    },
    {
      "cell_type": "code",
      "execution_count": 2,
      "id": "bd91e3d3",
      "metadata": {
        "execution": {
          "iopub.execute_input": "2022-07-13T10:26:34.548841Z",
          "iopub.status.busy": "2022-07-13T10:26:34.548131Z",
          "iopub.status.idle": "2022-07-13T10:26:37.974858Z",
          "shell.execute_reply": "2022-07-13T10:26:37.973926Z"
        },
        "origin_pos": 1,
        "tab": [
          "mxnet"
        ],
        "id": "bd91e3d3"
      },
      "outputs": [],
      "source": [
        "%matplotlib inline\n",
        "from mxnet import autograd, gluon, image, init, np, npx\n",
        "from mxnet.gluon import nn\n",
        "from d2l import mxnet as d2l\n",
        "\n",
        "npx.set_np()\n",
        "\n",
        "def cls_predictor(num_anchors, num_classes):\n",
        "    return nn.Conv2D(num_anchors * (num_classes + 1), kernel_size=3,\n",
        "                     padding=1)"
      ]
    },
    {
      "cell_type": "markdown",
      "id": "40fe8b57",
      "metadata": {
        "origin_pos": 3,
        "id": "40fe8b57"
      },
      "source": [
        "### (**Bounding Box Prediction Layer**)\n",
        "\n",
        "The design of the bounding box prediction layer is similar to that of the class prediction layer.\n",
        "The only difference lies in the number of outputs for each anchor box:\n",
        "here we need to predict four offsets rather than $q+1$ classes.\n"
      ]
    },
    {
      "cell_type": "code",
      "execution_count": 3,
      "id": "15294d57",
      "metadata": {
        "execution": {
          "iopub.execute_input": "2022-07-13T10:26:38.012839Z",
          "iopub.status.busy": "2022-07-13T10:26:38.012410Z",
          "iopub.status.idle": "2022-07-13T10:26:38.017015Z",
          "shell.execute_reply": "2022-07-13T10:26:38.016185Z"
        },
        "origin_pos": 4,
        "tab": [
          "mxnet"
        ],
        "id": "15294d57"
      },
      "outputs": [],
      "source": [
        "def bbox_predictor(num_anchors):\n",
        "    return nn.Conv2D(num_anchors * 4, kernel_size=3, padding=1)"
      ]
    },
    {
      "cell_type": "markdown",
      "id": "5e499197",
      "metadata": {
        "origin_pos": 6,
        "id": "5e499197"
      },
      "source": [
        "### [**Concatenating Predictions for Multiple Scales**]\n",
        "\n",
        "As we mentioned, single-shot multibox detection\n",
        "uses multiscale feature maps to generate anchor boxes and predict their classes and offsets.\n",
        "At different scales,\n",
        "the shapes of feature maps\n",
        "or the numbers of anchor boxes centered on the same unit\n",
        "may vary.\n",
        "Therefore,\n",
        "shapes of the prediction outputs\n",
        "at different scales may vary.\n",
        "\n",
        "In the following example,\n",
        "we construct feature maps at two different scales,\n",
        "`Y1` and `Y2`,\n",
        "for the same minibatch,\n",
        "where the height and width of `Y2`\n",
        "are half of those of `Y1`.\n",
        "Let's take class prediction as an example.\n",
        "Suppose that\n",
        "5 and 3 anchor boxes\n",
        "are generated for every unit in `Y1` and `Y2`, respectively.\n",
        "Suppose further that\n",
        "the number of object classes is 10.\n",
        "For feature maps `Y1` and `Y2`\n",
        "the numbers of channels in the class prediction outputs\n",
        "are $5\\times(10+1)=55$ and $3\\times(10+1)=33$, respectively,\n",
        "where either output shape is\n",
        "(batch size, number of channels, height, width).\n"
      ]
    },
    {
      "cell_type": "code",
      "execution_count": 4,
      "id": "9dd08299",
      "metadata": {
        "execution": {
          "iopub.execute_input": "2022-07-13T10:26:38.021153Z",
          "iopub.status.busy": "2022-07-13T10:26:38.020863Z",
          "iopub.status.idle": "2022-07-13T10:26:38.037539Z",
          "shell.execute_reply": "2022-07-13T10:26:38.036494Z"
        },
        "origin_pos": 7,
        "tab": [
          "mxnet"
        ],
        "id": "9dd08299",
        "outputId": "2cfc962f-7524-4793-bc26-9c27d1ce2c38",
        "colab": {
          "base_uri": "https://localhost:8080/"
        }
      },
      "outputs": [
        {
          "output_type": "execute_result",
          "data": {
            "text/plain": [
              "((2, 55, 20, 20), (2, 33, 10, 10))"
            ]
          },
          "metadata": {},
          "execution_count": 4
        }
      ],
      "source": [
        "def forward(x, block):\n",
        "    block.initialize()\n",
        "    return block(x)\n",
        "\n",
        "Y1 = forward(np.zeros((2, 8, 20, 20)), cls_predictor(5, 10))\n",
        "Y2 = forward(np.zeros((2, 16, 10, 10)), cls_predictor(3, 10))\n",
        "Y1.shape, Y2.shape"
      ]
    },
    {
      "cell_type": "markdown",
      "id": "0767f89b",
      "metadata": {
        "origin_pos": 9,
        "id": "0767f89b"
      },
      "source": [
        "As we can see, except for the batch size dimension,\n",
        "the other three dimensions all have different sizes.\n",
        "To concatenate these two prediction outputs for more efficient computation,\n",
        "we will transform these tensors into a more consistent format.\n",
        "\n",
        "Note that\n",
        "the channel dimension holds the predictions for\n",
        "anchor boxes with the same center.\n",
        "We first move this dimension to the innermost.\n",
        "Since the batch size remains the same for different scales,\n",
        "we can transform the prediction output\n",
        "into a two-dimensional tensor\n",
        "with shape (batch size, height $\\times$ width $\\times$ number of channels).\n",
        "Then we can concatenate\n",
        "such outputs at different scales\n",
        "along dimension 1.\n"
      ]
    },
    {
      "cell_type": "code",
      "execution_count": 5,
      "id": "5fc7e399",
      "metadata": {
        "execution": {
          "iopub.execute_input": "2022-07-13T10:26:38.042035Z",
          "iopub.status.busy": "2022-07-13T10:26:38.041393Z",
          "iopub.status.idle": "2022-07-13T10:26:38.046298Z",
          "shell.execute_reply": "2022-07-13T10:26:38.045478Z"
        },
        "origin_pos": 10,
        "tab": [
          "mxnet"
        ],
        "id": "5fc7e399"
      },
      "outputs": [],
      "source": [
        "def flatten_pred(pred):\n",
        "    return npx.batch_flatten(pred.transpose(0, 2, 3, 1))\n",
        "\n",
        "def concat_preds(preds):\n",
        "    return np.concatenate([flatten_pred(p) for p in preds], axis=1)"
      ]
    },
    {
      "cell_type": "markdown",
      "id": "edf5ac0a",
      "metadata": {
        "origin_pos": 12,
        "id": "edf5ac0a"
      },
      "source": [
        "In this way,\n",
        "even though `Y1` and `Y2` have different sizes\n",
        "in channels, heights, and widths,\n",
        "we can still concatenate these two prediction outputs at two different scales for the same minibatch.\n"
      ]
    },
    {
      "cell_type": "code",
      "execution_count": 6,
      "id": "72c165ad",
      "metadata": {
        "execution": {
          "iopub.execute_input": "2022-07-13T10:26:38.049938Z",
          "iopub.status.busy": "2022-07-13T10:26:38.049356Z",
          "iopub.status.idle": "2022-07-13T10:26:38.055476Z",
          "shell.execute_reply": "2022-07-13T10:26:38.054624Z"
        },
        "origin_pos": 13,
        "tab": [
          "mxnet"
        ],
        "id": "72c165ad",
        "outputId": "53f9f471-c58b-41c4-9f9e-aacd38acbbbf",
        "colab": {
          "base_uri": "https://localhost:8080/"
        }
      },
      "outputs": [
        {
          "output_type": "execute_result",
          "data": {
            "text/plain": [
              "(2, 25300)"
            ]
          },
          "metadata": {},
          "execution_count": 6
        }
      ],
      "source": [
        "concat_preds([Y1, Y2]).shape"
      ]
    },
    {
      "cell_type": "markdown",
      "id": "54a60d50",
      "metadata": {
        "origin_pos": 14,
        "id": "54a60d50"
      },
      "source": [
        "### [**Downsampling Block**]\n",
        "\n",
        "In order to detect objects at multiple scales,\n",
        "we define the following downsampling block `down_sample_blk` that\n",
        "halves the height and width of input feature maps.\n",
        "In fact,\n",
        "this block applies the design of VGG blocks\n",
        "in :numref:`subsec_vgg-blocks`.\n",
        "More concretely,\n",
        "each downsampling block consists of\n",
        "two $3\\times3$ convolutional layers with padding of 1\n",
        "followed by a $2\\times2$ max-pooling layer with stride of 2.\n",
        "As we know, $3\\times3$ convolutional layers with padding of 1 do not change the shape of feature maps.\n",
        "However, the subsequent $2\\times2$ max-pooling  reduces the height and width of input feature maps by half.\n",
        "For both input and output feature maps of this downsampling block,\n",
        "because $1\\times 2+(3-1)+(3-1)=6$,\n",
        "each unit in the output\n",
        "has a $6\\times6$ receptive field on the input.\n",
        "Therefore, the downsampling block enlarges the receptive field of each unit in its output feature maps.\n"
      ]
    },
    {
      "cell_type": "code",
      "execution_count": 7,
      "id": "942f4086",
      "metadata": {
        "execution": {
          "iopub.execute_input": "2022-07-13T10:26:38.059035Z",
          "iopub.status.busy": "2022-07-13T10:26:38.058431Z",
          "iopub.status.idle": "2022-07-13T10:26:38.064311Z",
          "shell.execute_reply": "2022-07-13T10:26:38.063476Z"
        },
        "origin_pos": 15,
        "tab": [
          "mxnet"
        ],
        "id": "942f4086"
      },
      "outputs": [],
      "source": [
        "def down_sample_blk(num_channels):\n",
        "    blk = nn.Sequential()\n",
        "    for _ in range(2):\n",
        "        blk.add(nn.Conv2D(num_channels, kernel_size=3, padding=1),\n",
        "                nn.BatchNorm(in_channels=num_channels),\n",
        "                nn.Activation('relu'))\n",
        "    blk.add(nn.MaxPool2D(2))\n",
        "    return blk"
      ]
    },
    {
      "cell_type": "markdown",
      "id": "89391857",
      "metadata": {
        "origin_pos": 17,
        "id": "89391857"
      },
      "source": [
        "In the following example, our constructed downsampling block changes the number of input channels and halves the height and width of the input feature maps.\n"
      ]
    },
    {
      "cell_type": "code",
      "execution_count": 8,
      "id": "b1e10578",
      "metadata": {
        "execution": {
          "iopub.execute_input": "2022-07-13T10:26:38.067922Z",
          "iopub.status.busy": "2022-07-13T10:26:38.067379Z",
          "iopub.status.idle": "2022-07-13T10:26:38.087369Z",
          "shell.execute_reply": "2022-07-13T10:26:38.086548Z"
        },
        "origin_pos": 18,
        "tab": [
          "mxnet"
        ],
        "id": "b1e10578",
        "outputId": "250e9510-df5b-441f-b4dc-fd2dd5245f9e",
        "colab": {
          "base_uri": "https://localhost:8080/"
        }
      },
      "outputs": [
        {
          "output_type": "execute_result",
          "data": {
            "text/plain": [
              "(2, 10, 10, 10)"
            ]
          },
          "metadata": {},
          "execution_count": 8
        }
      ],
      "source": [
        "forward(np.zeros((2, 3, 20, 20)), down_sample_blk(10)).shape"
      ]
    },
    {
      "cell_type": "markdown",
      "id": "1dee73d4",
      "metadata": {
        "origin_pos": 20,
        "id": "1dee73d4"
      },
      "source": [
        "### [**Base Network Block**]\n",
        "\n",
        "The base network block is used to extract features from input images.\n",
        "For simplicity,\n",
        "we construct a small base network\n",
        "consisting of three downsampling blocks\n",
        "that double the number of channels at each block.\n",
        "Given a $256\\times256$ input image,\n",
        "this base network block outputs $32 \\times 32$ feature maps ($256/2^3=32$).\n"
      ]
    },
    {
      "cell_type": "code",
      "execution_count": 9,
      "id": "de9348f1",
      "metadata": {
        "execution": {
          "iopub.execute_input": "2022-07-13T10:26:38.091167Z",
          "iopub.status.busy": "2022-07-13T10:26:38.090354Z",
          "iopub.status.idle": "2022-07-13T10:26:38.138749Z",
          "shell.execute_reply": "2022-07-13T10:26:38.136419Z"
        },
        "origin_pos": 21,
        "tab": [
          "mxnet"
        ],
        "id": "de9348f1",
        "outputId": "2dc00109-7c10-412e-f123-8473b79d6b37",
        "colab": {
          "base_uri": "https://localhost:8080/"
        }
      },
      "outputs": [
        {
          "output_type": "execute_result",
          "data": {
            "text/plain": [
              "(2, 64, 32, 32)"
            ]
          },
          "metadata": {},
          "execution_count": 9
        }
      ],
      "source": [
        "def base_net():\n",
        "    blk = nn.Sequential()\n",
        "    for num_filters in [16, 32, 64]:\n",
        "        blk.add(down_sample_blk(num_filters))\n",
        "    return blk\n",
        "\n",
        "forward(np.zeros((2, 3, 256, 256)), base_net()).shape"
      ]
    },
    {
      "cell_type": "markdown",
      "id": "3596a824",
      "metadata": {
        "origin_pos": 23,
        "id": "3596a824"
      },
      "source": [
        "### The Complete Model\n",
        "\n",
        "\n",
        "[**The complete\n",
        "single shot multibox detection model\n",
        "consists of five blocks.**]\n",
        "The feature maps produced by each block\n",
        "are used for both\n",
        "(i) generating anchor boxes\n",
        "and (ii) predicting classes and offsets of these anchor boxes.\n",
        "Among these five blocks,\n",
        "the first one\n",
        "is the base network block,\n",
        "the second to the fourth are\n",
        "downsampling blocks,\n",
        "and the last block\n",
        "uses global max-pooling\n",
        "to reduce both the height and width to 1.\n",
        "Technically,\n",
        "the second to the fifth blocks\n",
        "are all\n",
        "those\n",
        "multiscale feature map blocks\n",
        "in :numref:`fig_ssd`.\n"
      ]
    },
    {
      "cell_type": "code",
      "execution_count": 10,
      "id": "dab940ce",
      "metadata": {
        "execution": {
          "iopub.execute_input": "2022-07-13T10:26:38.148492Z",
          "iopub.status.busy": "2022-07-13T10:26:38.146507Z",
          "iopub.status.idle": "2022-07-13T10:26:38.157958Z",
          "shell.execute_reply": "2022-07-13T10:26:38.156065Z"
        },
        "origin_pos": 24,
        "tab": [
          "mxnet"
        ],
        "id": "dab940ce"
      },
      "outputs": [],
      "source": [
        "def get_blk(i):\n",
        "    if i == 0:\n",
        "        blk = base_net()\n",
        "    elif i == 4:\n",
        "        blk = nn.GlobalMaxPool2D()\n",
        "    else:\n",
        "        blk = down_sample_blk(128)\n",
        "    return blk"
      ]
    },
    {
      "cell_type": "markdown",
      "id": "034ca0c3",
      "metadata": {
        "origin_pos": 26,
        "id": "034ca0c3"
      },
      "source": [
        "Now we [**define the forward propagation**]\n",
        "for each block.\n",
        "Different from\n",
        "in image classification tasks,\n",
        "outputs here include\n",
        "(i) CNN feature maps `Y`,\n",
        "(ii) anchor boxes generated using `Y` at the current scale,\n",
        "and (iii) classes and offsets predicted (based on `Y`)\n",
        "for these anchor boxes.\n"
      ]
    },
    {
      "cell_type": "code",
      "execution_count": 11,
      "id": "cb4ba2df",
      "metadata": {
        "execution": {
          "iopub.execute_input": "2022-07-13T10:26:38.166209Z",
          "iopub.status.busy": "2022-07-13T10:26:38.164599Z",
          "iopub.status.idle": "2022-07-13T10:26:38.176109Z",
          "shell.execute_reply": "2022-07-13T10:26:38.174263Z"
        },
        "origin_pos": 27,
        "tab": [
          "mxnet"
        ],
        "id": "cb4ba2df"
      },
      "outputs": [],
      "source": [
        "def blk_forward(X, blk, size, ratio, cls_predictor, bbox_predictor):\n",
        "    Y = blk(X)\n",
        "    anchors = d2l.multibox_prior(Y, sizes=size, ratios=ratio)\n",
        "    cls_preds = cls_predictor(Y)\n",
        "    bbox_preds = bbox_predictor(Y)\n",
        "    return (Y, anchors, cls_preds, bbox_preds)"
      ]
    },
    {
      "cell_type": "markdown",
      "id": "b2fc2f3c",
      "metadata": {
        "origin_pos": 29,
        "id": "b2fc2f3c"
      },
      "source": [
        "Recall that\n",
        "in :numref:`fig_ssd`\n",
        "a multiscale feature map block\n",
        "that is closer to the top\n",
        "is for detecting larger objects;\n",
        "thus, it needs to generate larger anchor boxes.\n",
        "In the above forward propagation,\n",
        "at each multiscale feature map block\n",
        "we pass in a list of two scale values\n",
        "via the `sizes` argument\n",
        "of the invoked `multibox_prior` function (described in :numref:`sec_anchor`).\n",
        "In the following,\n",
        "the interval between 0.2 and 1.05\n",
        "is split evenly\n",
        "into five sections to determine the\n",
        "smaller scale values at the five blocks: 0.2, 0.37, 0.54, 0.71, and 0.88.\n",
        "Then their larger scale values\n",
        "are given by\n",
        "$\\sqrt{0.2 \\times 0.37} = 0.272$, $\\sqrt{0.37 \\times 0.54} = 0.447$, and so on.\n",
        "\n",
        "[~~Hyperparameters for each block~~]\n"
      ]
    },
    {
      "cell_type": "code",
      "execution_count": 12,
      "id": "bd43fecc",
      "metadata": {
        "execution": {
          "iopub.execute_input": "2022-07-13T10:26:38.183491Z",
          "iopub.status.busy": "2022-07-13T10:26:38.182201Z",
          "iopub.status.idle": "2022-07-13T10:26:38.190443Z",
          "shell.execute_reply": "2022-07-13T10:26:38.189492Z"
        },
        "origin_pos": 30,
        "tab": [
          "mxnet"
        ],
        "id": "bd43fecc"
      },
      "outputs": [],
      "source": [
        "sizes = [[0.2, 0.272], [0.37, 0.447], [0.54, 0.619], [0.71, 0.79],\n",
        "         [0.88, 0.961]]\n",
        "ratios = [[1, 2, 0.5]] * 5\n",
        "num_anchors = len(sizes[0]) + len(ratios[0]) - 1"
      ]
    },
    {
      "cell_type": "markdown",
      "id": "9f55113f",
      "metadata": {
        "origin_pos": 31,
        "id": "9f55113f"
      },
      "source": [
        "Now we can [**define the complete model**] `TinySSD` as follows.\n"
      ]
    },
    {
      "cell_type": "code",
      "execution_count": 13,
      "id": "f83ebcee",
      "metadata": {
        "execution": {
          "iopub.execute_input": "2022-07-13T10:26:38.194269Z",
          "iopub.status.busy": "2022-07-13T10:26:38.193461Z",
          "iopub.status.idle": "2022-07-13T10:26:38.202157Z",
          "shell.execute_reply": "2022-07-13T10:26:38.201082Z"
        },
        "origin_pos": 32,
        "tab": [
          "mxnet"
        ],
        "id": "f83ebcee"
      },
      "outputs": [],
      "source": [
        "class TinySSD(nn.Block):\n",
        "    def __init__(self, num_classes, **kwargs):\n",
        "        super(TinySSD, self).__init__(**kwargs)\n",
        "        self.num_classes = num_classes\n",
        "        for i in range(5):\n",
        "            # Equivalent to the assignment statement `self.blk_i = get_blk(i)`\n",
        "            setattr(self, f'blk_{i}', get_blk(i))\n",
        "            setattr(self, f'cls_{i}', cls_predictor(num_anchors, num_classes))\n",
        "            setattr(self, f'bbox_{i}', bbox_predictor(num_anchors))\n",
        "\n",
        "    def forward(self, X):\n",
        "        anchors, cls_preds, bbox_preds = [None] * 5, [None] * 5, [None] * 5\n",
        "        for i in range(5):\n",
        "            # Here `getattr(self, 'blk_%d' % i)` accesses `self.blk_i`\n",
        "            X, anchors[i], cls_preds[i], bbox_preds[i] = blk_forward(\n",
        "                X, getattr(self, f'blk_{i}'), sizes[i], ratios[i],\n",
        "                getattr(self, f'cls_{i}'), getattr(self, f'bbox_{i}'))\n",
        "        anchors = np.concatenate(anchors, axis=1)\n",
        "        cls_preds = concat_preds(cls_preds)\n",
        "        cls_preds = cls_preds.reshape(\n",
        "            cls_preds.shape[0], -1, self.num_classes + 1)\n",
        "        bbox_preds = concat_preds(bbox_preds)\n",
        "        return anchors, cls_preds, bbox_preds"
      ]
    },
    {
      "cell_type": "markdown",
      "id": "9ff76965",
      "metadata": {
        "origin_pos": 34,
        "id": "9ff76965"
      },
      "source": [
        "We [**create a model instance\n",
        "and use it to perform forward propagation**]\n",
        "on a minibatch of $256 \\times 256$ images `X`.\n",
        "\n",
        "As shown earlier in this section,\n",
        "the first block outputs $32 \\times 32$ feature maps.\n",
        "Recall that\n",
        "the second to fourth downsampling blocks\n",
        "halve the height and width\n",
        "and the fifth block uses global pooling.\n",
        "Since 4 anchor boxes\n",
        "are generated for each unit along spatial dimensions\n",
        "of feature maps,\n",
        "at all the five scales\n",
        "a total of $(32^2 + 16^2 + 8^2 + 4^2 + 1)\\times 4 = 5444$ anchor boxes are generated for each image.\n"
      ]
    },
    {
      "cell_type": "code",
      "execution_count": 14,
      "id": "777e8808",
      "metadata": {
        "execution": {
          "iopub.execute_input": "2022-07-13T10:26:38.205784Z",
          "iopub.status.busy": "2022-07-13T10:26:38.205228Z",
          "iopub.status.idle": "2022-07-13T10:26:38.609904Z",
          "shell.execute_reply": "2022-07-13T10:26:38.608589Z"
        },
        "origin_pos": 35,
        "tab": [
          "mxnet"
        ],
        "id": "777e8808",
        "outputId": "d4af2fcf-d51e-4b76-d6cf-627cf6a2c846",
        "colab": {
          "base_uri": "https://localhost:8080/"
        }
      },
      "outputs": [
        {
          "output_type": "stream",
          "name": "stdout",
          "text": [
            "output anchors: (1, 5444, 4)\n",
            "output class preds: (32, 5444, 2)\n",
            "output bbox preds: (32, 21776)\n"
          ]
        }
      ],
      "source": [
        "net = TinySSD(num_classes=1)\n",
        "net.initialize()\n",
        "X = np.zeros((32, 3, 256, 256))\n",
        "anchors, cls_preds, bbox_preds = net(X)\n",
        "\n",
        "print('output anchors:', anchors.shape)\n",
        "print('output class preds:', cls_preds.shape)\n",
        "print('output bbox preds:', bbox_preds.shape)"
      ]
    },
    {
      "cell_type": "markdown",
      "id": "504ade5c",
      "metadata": {
        "origin_pos": 37,
        "id": "504ade5c"
      },
      "source": [
        "## Training\n",
        "\n",
        "Now we will explain\n",
        "how to train the single shot multibox detection model\n",
        "for object detection.\n",
        "\n",
        "\n",
        "### Reading the Dataset and Initializing the Model\n",
        "\n",
        "To begin with,\n",
        "let's [**read\n",
        "the banana detection dataset**]\n",
        "described in :numref:`sec_object-detection-dataset`.\n"
      ]
    },
    {
      "cell_type": "code",
      "execution_count": 15,
      "id": "397c5df9",
      "metadata": {
        "execution": {
          "iopub.execute_input": "2022-07-13T10:26:38.616535Z",
          "iopub.status.busy": "2022-07-13T10:26:38.615511Z",
          "iopub.status.idle": "2022-07-13T10:26:42.883595Z",
          "shell.execute_reply": "2022-07-13T10:26:42.882632Z"
        },
        "origin_pos": 38,
        "tab": [
          "mxnet"
        ],
        "id": "397c5df9",
        "outputId": "d73e1bee-bd27-475c-dee7-a127fef5e807",
        "colab": {
          "base_uri": "https://localhost:8080/"
        }
      },
      "outputs": [
        {
          "output_type": "stream",
          "name": "stdout",
          "text": [
            "Downloading ../data/banana-detection.zip from http://d2l-data.s3-accelerate.amazonaws.com/banana-detection.zip...\n",
            "read 1000 training examples\n",
            "read 100 validation examples\n"
          ]
        }
      ],
      "source": [
        "batch_size = 32\n",
        "train_iter, _ = d2l.load_data_bananas(batch_size)"
      ]
    },
    {
      "cell_type": "markdown",
      "id": "17affe40",
      "metadata": {
        "origin_pos": 39,
        "id": "17affe40"
      },
      "source": [
        "There is only one class in the banana detection dataset. After defining the model,\n",
        "we need to (**initialize its parameters and define\n",
        "the optimization algorithm**).\n"
      ]
    },
    {
      "cell_type": "code",
      "execution_count": 16,
      "id": "fbada7b0",
      "metadata": {
        "execution": {
          "iopub.execute_input": "2022-07-13T10:26:42.887448Z",
          "iopub.status.busy": "2022-07-13T10:26:42.886841Z",
          "iopub.status.idle": "2022-07-13T10:26:47.434655Z",
          "shell.execute_reply": "2022-07-13T10:26:47.433620Z"
        },
        "origin_pos": 40,
        "tab": [
          "mxnet"
        ],
        "id": "fbada7b0"
      },
      "outputs": [],
      "source": [
        "device, net = d2l.try_gpu(), TinySSD(num_classes=1)\n",
        "net.initialize(init=init.Xavier(), ctx=device)\n",
        "trainer = gluon.Trainer(net.collect_params(), 'sgd',\n",
        "                        {'learning_rate': 0.2, 'wd': 5e-4})"
      ]
    },
    {
      "cell_type": "markdown",
      "id": "51ea25fb",
      "metadata": {
        "origin_pos": 42,
        "id": "51ea25fb"
      },
      "source": [
        "### [**Defining Loss and Evaluation Functions**]\n",
        "\n",
        "Object detection has two types of losses.\n",
        "The first loss concerns classes of anchor boxes:\n",
        "its computation\n",
        "can simply reuse\n",
        "the cross-entropy loss function\n",
        "that we used for image classification.\n",
        "The second loss\n",
        "concerns offsets of positive (non-background) anchor boxes:\n",
        "this is a regression problem.\n",
        "For this regression problem,\n",
        "however,\n",
        "here we do not use the squared loss\n",
        "described in :numref:`subsec_normal_distribution_and_squared_loss`.\n",
        "Instead,\n",
        "we use the $\\ell_1$ norm loss,\n",
        "the absolute value of the difference between\n",
        "the prediction and the ground-truth.\n",
        "The mask variable `bbox_masks` filters out\n",
        "negative anchor boxes and illegal (padded)\n",
        "anchor boxes in the loss calculation.\n",
        "In the end, we sum up\n",
        "the anchor box class loss\n",
        "and the anchor box offset loss\n",
        "to obtain the loss function for the model.\n"
      ]
    },
    {
      "cell_type": "code",
      "execution_count": 17,
      "id": "79fd4f23",
      "metadata": {
        "execution": {
          "iopub.execute_input": "2022-07-13T10:26:47.438997Z",
          "iopub.status.busy": "2022-07-13T10:26:47.438410Z",
          "iopub.status.idle": "2022-07-13T10:26:47.443965Z",
          "shell.execute_reply": "2022-07-13T10:26:47.443110Z"
        },
        "origin_pos": 43,
        "tab": [
          "mxnet"
        ],
        "id": "79fd4f23"
      },
      "outputs": [],
      "source": [
        "cls_loss = gluon.loss.SoftmaxCrossEntropyLoss()\n",
        "bbox_loss = gluon.loss.L1Loss()\n",
        "\n",
        "def calc_loss(cls_preds, cls_labels, bbox_preds, bbox_labels, bbox_masks):\n",
        "    cls = cls_loss(cls_preds, cls_labels)\n",
        "    bbox = bbox_loss(bbox_preds * bbox_masks, bbox_labels * bbox_masks)\n",
        "    return cls + bbox"
      ]
    },
    {
      "cell_type": "markdown",
      "id": "543c4587",
      "metadata": {
        "origin_pos": 45,
        "id": "543c4587"
      },
      "source": [
        "We can use accuracy to evaluate the classification results.\n",
        "Due to the used $\\ell_1$ norm loss for the offsets,\n",
        "we use the *mean absolute error* to evaluate the\n",
        "predicted bounding boxes.\n",
        "These prediction results are obtained\n",
        "from the generated anchor boxes and the\n",
        "predicted offsets for them.\n"
      ]
    },
    {
      "cell_type": "code",
      "execution_count": 18,
      "id": "d1e8704f",
      "metadata": {
        "execution": {
          "iopub.execute_input": "2022-07-13T10:26:47.448705Z",
          "iopub.status.busy": "2022-07-13T10:26:47.448114Z",
          "iopub.status.idle": "2022-07-13T10:26:47.452952Z",
          "shell.execute_reply": "2022-07-13T10:26:47.452143Z"
        },
        "origin_pos": 46,
        "tab": [
          "mxnet"
        ],
        "id": "d1e8704f"
      },
      "outputs": [],
      "source": [
        "def cls_eval(cls_preds, cls_labels):\n",
        "    # Because the class prediction results are on the final dimension,\n",
        "    # `argmax` needs to specify this dimension\n",
        "    return float((cls_preds.argmax(axis=-1).astype(\n",
        "        cls_labels.dtype) == cls_labels).sum())\n",
        "\n",
        "def bbox_eval(bbox_preds, bbox_labels, bbox_masks):\n",
        "    return float((np.abs((bbox_labels - bbox_preds) * bbox_masks)).sum())"
      ]
    },
    {
      "cell_type": "markdown",
      "id": "c02544bc",
      "metadata": {
        "origin_pos": 48,
        "id": "c02544bc"
      },
      "source": [
        "### [**Training the Model**]\n",
        "\n",
        "When training the model,\n",
        "we need to generate multiscale anchor boxes (`anchors`)\n",
        "and predict their classes (`cls_preds`) and offsets (`bbox_preds`) in the forward propagation.\n",
        "Then we label the classes (`cls_labels`) and offsets (`bbox_labels`) of such generated anchor boxes\n",
        "based on the label information `Y`.\n",
        "Finally, we calculate the loss function\n",
        "using the predicted and labeled values\n",
        "of the classes and offsets.\n",
        "For concise implementations,\n",
        "evaluation of the test dataset is omitted here.\n"
      ]
    },
    {
      "cell_type": "code",
      "execution_count": 19,
      "id": "ec7ed6fc",
      "metadata": {
        "execution": {
          "iopub.execute_input": "2022-07-13T10:26:47.458466Z",
          "iopub.status.busy": "2022-07-13T10:26:47.457593Z",
          "iopub.status.idle": "2022-07-13T10:35:53.496216Z",
          "shell.execute_reply": "2022-07-13T10:35:53.495344Z"
        },
        "origin_pos": 49,
        "tab": [
          "mxnet"
        ],
        "id": "ec7ed6fc",
        "outputId": "83cead59-16df-4b7f-b4b5-ef099895b9fd",
        "colab": {
          "base_uri": "https://localhost:8080/",
          "height": 302
        }
      },
      "outputs": [
        {
          "output_type": "stream",
          "name": "stdout",
          "text": [
            "class err 3.52e-03, bbox mae 3.75e-03\n",
            "2747.2 examples/sec on gpu(0)\n"
          ]
        },
        {
          "output_type": "display_data",
          "data": {
            "text/plain": [
              "<Figure size 252x180 with 1 Axes>"
            ],
            "image/svg+xml": "<?xml version=\"1.0\" encoding=\"utf-8\" standalone=\"no\"?>\n<!DOCTYPE svg PUBLIC \"-//W3C//DTD SVG 1.1//EN\"\n  \"http://www.w3.org/Graphics/SVG/1.1/DTD/svg11.dtd\">\n<!-- Created with matplotlib (https://matplotlib.org/) -->\n<svg height=\"183.567714pt\" version=\"1.1\" viewBox=\"0 0 251.690625 183.567714\" width=\"251.690625pt\" xmlns=\"http://www.w3.org/2000/svg\" xmlns:xlink=\"http://www.w3.org/1999/xlink\">\n <defs>\n  <style type=\"text/css\">\n*{stroke-linecap:butt;stroke-linejoin:round;}\n  </style>\n </defs>\n <g id=\"figure_1\">\n  <g id=\"patch_1\">\n   <path d=\"M 0 183.567714 \nL 251.690625 183.567714 \nL 251.690625 0 \nL 0 0 \nz\n\" style=\"fill:none;\"/>\n  </g>\n  <g id=\"axes_1\">\n   <g id=\"patch_2\">\n    <path d=\"M 42.828125 146.011464 \nL 238.128125 146.011464 \nL 238.128125 10.111464 \nL 42.828125 10.111464 \nz\n\" style=\"fill:#ffffff;\"/>\n   </g>\n   <g id=\"matplotlib.axis_1\">\n    <g id=\"xtick_1\">\n     <g id=\"line2d_1\">\n      <path clip-path=\"url(#pe830864708)\" d=\"M 83.943914 146.011464 \nL 83.943914 10.111464 \n\" style=\"fill:none;stroke:#b0b0b0;stroke-linecap:square;stroke-width:0.8;\"/>\n     </g>\n     <g id=\"line2d_2\">\n      <defs>\n       <path d=\"M 0 0 \nL 0 3.5 \n\" id=\"md89f063806\" style=\"stroke:#000000;stroke-width:0.8;\"/>\n      </defs>\n      <g>\n       <use style=\"stroke:#000000;stroke-width:0.8;\" x=\"83.943914\" xlink:href=\"#md89f063806\" y=\"146.011464\"/>\n      </g>\n     </g>\n     <g id=\"text_1\">\n      <!-- 5 -->\n      <defs>\n       <path d=\"M 10.796875 72.90625 \nL 49.515625 72.90625 \nL 49.515625 64.59375 \nL 19.828125 64.59375 \nL 19.828125 46.734375 \nQ 21.96875 47.46875 24.109375 47.828125 \nQ 26.265625 48.1875 28.421875 48.1875 \nQ 40.625 48.1875 47.75 41.5 \nQ 54.890625 34.8125 54.890625 23.390625 \nQ 54.890625 11.625 47.5625 5.09375 \nQ 40.234375 -1.421875 26.90625 -1.421875 \nQ 22.3125 -1.421875 17.546875 -0.640625 \nQ 12.796875 0.140625 7.71875 1.703125 \nL 7.71875 11.625 \nQ 12.109375 9.234375 16.796875 8.0625 \nQ 21.484375 6.890625 26.703125 6.890625 \nQ 35.15625 6.890625 40.078125 11.328125 \nQ 45.015625 15.765625 45.015625 23.390625 \nQ 45.015625 31 40.078125 35.4375 \nQ 35.15625 39.890625 26.703125 39.890625 \nQ 22.75 39.890625 18.8125 39.015625 \nQ 14.890625 38.140625 10.796875 36.28125 \nz\n\" id=\"DejaVuSans-53\"/>\n      </defs>\n      <g transform=\"translate(80.762664 160.609901)scale(0.1 -0.1)\">\n       <use xlink:href=\"#DejaVuSans-53\"/>\n      </g>\n     </g>\n    </g>\n    <g id=\"xtick_2\">\n     <g id=\"line2d_3\">\n      <path clip-path=\"url(#pe830864708)\" d=\"M 135.338651 146.011464 \nL 135.338651 10.111464 \n\" style=\"fill:none;stroke:#b0b0b0;stroke-linecap:square;stroke-width:0.8;\"/>\n     </g>\n     <g id=\"line2d_4\">\n      <g>\n       <use style=\"stroke:#000000;stroke-width:0.8;\" x=\"135.338651\" xlink:href=\"#md89f063806\" y=\"146.011464\"/>\n      </g>\n     </g>\n     <g id=\"text_2\">\n      <!-- 10 -->\n      <defs>\n       <path d=\"M 12.40625 8.296875 \nL 28.515625 8.296875 \nL 28.515625 63.921875 \nL 10.984375 60.40625 \nL 10.984375 69.390625 \nL 28.421875 72.90625 \nL 38.28125 72.90625 \nL 38.28125 8.296875 \nL 54.390625 8.296875 \nL 54.390625 0 \nL 12.40625 0 \nz\n\" id=\"DejaVuSans-49\"/>\n       <path d=\"M 31.78125 66.40625 \nQ 24.171875 66.40625 20.328125 58.90625 \nQ 16.5 51.421875 16.5 36.375 \nQ 16.5 21.390625 20.328125 13.890625 \nQ 24.171875 6.390625 31.78125 6.390625 \nQ 39.453125 6.390625 43.28125 13.890625 \nQ 47.125 21.390625 47.125 36.375 \nQ 47.125 51.421875 43.28125 58.90625 \nQ 39.453125 66.40625 31.78125 66.40625 \nz\nM 31.78125 74.21875 \nQ 44.046875 74.21875 50.515625 64.515625 \nQ 56.984375 54.828125 56.984375 36.375 \nQ 56.984375 17.96875 50.515625 8.265625 \nQ 44.046875 -1.421875 31.78125 -1.421875 \nQ 19.53125 -1.421875 13.0625 8.265625 \nQ 6.59375 17.96875 6.59375 36.375 \nQ 6.59375 54.828125 13.0625 64.515625 \nQ 19.53125 74.21875 31.78125 74.21875 \nz\n\" id=\"DejaVuSans-48\"/>\n      </defs>\n      <g transform=\"translate(128.976151 160.609901)scale(0.1 -0.1)\">\n       <use xlink:href=\"#DejaVuSans-49\"/>\n       <use x=\"63.623047\" xlink:href=\"#DejaVuSans-48\"/>\n      </g>\n     </g>\n    </g>\n    <g id=\"xtick_3\">\n     <g id=\"line2d_5\">\n      <path clip-path=\"url(#pe830864708)\" d=\"M 186.733388 146.011464 \nL 186.733388 10.111464 \n\" style=\"fill:none;stroke:#b0b0b0;stroke-linecap:square;stroke-width:0.8;\"/>\n     </g>\n     <g id=\"line2d_6\">\n      <g>\n       <use style=\"stroke:#000000;stroke-width:0.8;\" x=\"186.733388\" xlink:href=\"#md89f063806\" y=\"146.011464\"/>\n      </g>\n     </g>\n     <g id=\"text_3\">\n      <!-- 15 -->\n      <g transform=\"translate(180.370888 160.609901)scale(0.1 -0.1)\">\n       <use xlink:href=\"#DejaVuSans-49\"/>\n       <use x=\"63.623047\" xlink:href=\"#DejaVuSans-53\"/>\n      </g>\n     </g>\n    </g>\n    <g id=\"xtick_4\">\n     <g id=\"line2d_7\">\n      <path clip-path=\"url(#pe830864708)\" d=\"M 238.128125 146.011464 \nL 238.128125 10.111464 \n\" style=\"fill:none;stroke:#b0b0b0;stroke-linecap:square;stroke-width:0.8;\"/>\n     </g>\n     <g id=\"line2d_8\">\n      <g>\n       <use style=\"stroke:#000000;stroke-width:0.8;\" x=\"238.128125\" xlink:href=\"#md89f063806\" y=\"146.011464\"/>\n      </g>\n     </g>\n     <g id=\"text_4\">\n      <!-- 20 -->\n      <defs>\n       <path d=\"M 19.1875 8.296875 \nL 53.609375 8.296875 \nL 53.609375 0 \nL 7.328125 0 \nL 7.328125 8.296875 \nQ 12.9375 14.109375 22.625 23.890625 \nQ 32.328125 33.6875 34.8125 36.53125 \nQ 39.546875 41.84375 41.421875 45.53125 \nQ 43.3125 49.21875 43.3125 52.78125 \nQ 43.3125 58.59375 39.234375 62.25 \nQ 35.15625 65.921875 28.609375 65.921875 \nQ 23.96875 65.921875 18.8125 64.3125 \nQ 13.671875 62.703125 7.8125 59.421875 \nL 7.8125 69.390625 \nQ 13.765625 71.78125 18.9375 73 \nQ 24.125 74.21875 28.421875 74.21875 \nQ 39.75 74.21875 46.484375 68.546875 \nQ 53.21875 62.890625 53.21875 53.421875 \nQ 53.21875 48.921875 51.53125 44.890625 \nQ 49.859375 40.875 45.40625 35.40625 \nQ 44.1875 33.984375 37.640625 27.21875 \nQ 31.109375 20.453125 19.1875 8.296875 \nz\n\" id=\"DejaVuSans-50\"/>\n      </defs>\n      <g transform=\"translate(231.765625 160.609901)scale(0.1 -0.1)\">\n       <use xlink:href=\"#DejaVuSans-50\"/>\n       <use x=\"63.623047\" xlink:href=\"#DejaVuSans-48\"/>\n      </g>\n     </g>\n    </g>\n    <g id=\"text_5\">\n     <!-- epoch -->\n     <defs>\n      <path d=\"M 56.203125 29.59375 \nL 56.203125 25.203125 \nL 14.890625 25.203125 \nQ 15.484375 15.921875 20.484375 11.0625 \nQ 25.484375 6.203125 34.421875 6.203125 \nQ 39.59375 6.203125 44.453125 7.46875 \nQ 49.3125 8.734375 54.109375 11.28125 \nL 54.109375 2.78125 \nQ 49.265625 0.734375 44.1875 -0.34375 \nQ 39.109375 -1.421875 33.890625 -1.421875 \nQ 20.796875 -1.421875 13.15625 6.1875 \nQ 5.515625 13.8125 5.515625 26.8125 \nQ 5.515625 40.234375 12.765625 48.109375 \nQ 20.015625 56 32.328125 56 \nQ 43.359375 56 49.78125 48.890625 \nQ 56.203125 41.796875 56.203125 29.59375 \nz\nM 47.21875 32.234375 \nQ 47.125 39.59375 43.09375 43.984375 \nQ 39.0625 48.390625 32.421875 48.390625 \nQ 24.90625 48.390625 20.390625 44.140625 \nQ 15.875 39.890625 15.1875 32.171875 \nz\n\" id=\"DejaVuSans-101\"/>\n      <path d=\"M 18.109375 8.203125 \nL 18.109375 -20.796875 \nL 9.078125 -20.796875 \nL 9.078125 54.6875 \nL 18.109375 54.6875 \nL 18.109375 46.390625 \nQ 20.953125 51.265625 25.265625 53.625 \nQ 29.59375 56 35.59375 56 \nQ 45.5625 56 51.78125 48.09375 \nQ 58.015625 40.1875 58.015625 27.296875 \nQ 58.015625 14.40625 51.78125 6.484375 \nQ 45.5625 -1.421875 35.59375 -1.421875 \nQ 29.59375 -1.421875 25.265625 0.953125 \nQ 20.953125 3.328125 18.109375 8.203125 \nz\nM 48.6875 27.296875 \nQ 48.6875 37.203125 44.609375 42.84375 \nQ 40.53125 48.484375 33.40625 48.484375 \nQ 26.265625 48.484375 22.1875 42.84375 \nQ 18.109375 37.203125 18.109375 27.296875 \nQ 18.109375 17.390625 22.1875 11.75 \nQ 26.265625 6.109375 33.40625 6.109375 \nQ 40.53125 6.109375 44.609375 11.75 \nQ 48.6875 17.390625 48.6875 27.296875 \nz\n\" id=\"DejaVuSans-112\"/>\n      <path d=\"M 30.609375 48.390625 \nQ 23.390625 48.390625 19.1875 42.75 \nQ 14.984375 37.109375 14.984375 27.296875 \nQ 14.984375 17.484375 19.15625 11.84375 \nQ 23.34375 6.203125 30.609375 6.203125 \nQ 37.796875 6.203125 41.984375 11.859375 \nQ 46.1875 17.53125 46.1875 27.296875 \nQ 46.1875 37.015625 41.984375 42.703125 \nQ 37.796875 48.390625 30.609375 48.390625 \nz\nM 30.609375 56 \nQ 42.328125 56 49.015625 48.375 \nQ 55.71875 40.765625 55.71875 27.296875 \nQ 55.71875 13.875 49.015625 6.21875 \nQ 42.328125 -1.421875 30.609375 -1.421875 \nQ 18.84375 -1.421875 12.171875 6.21875 \nQ 5.515625 13.875 5.515625 27.296875 \nQ 5.515625 40.765625 12.171875 48.375 \nQ 18.84375 56 30.609375 56 \nz\n\" id=\"DejaVuSans-111\"/>\n      <path d=\"M 48.78125 52.59375 \nL 48.78125 44.1875 \nQ 44.96875 46.296875 41.140625 47.34375 \nQ 37.3125 48.390625 33.40625 48.390625 \nQ 24.65625 48.390625 19.8125 42.84375 \nQ 14.984375 37.3125 14.984375 27.296875 \nQ 14.984375 17.28125 19.8125 11.734375 \nQ 24.65625 6.203125 33.40625 6.203125 \nQ 37.3125 6.203125 41.140625 7.25 \nQ 44.96875 8.296875 48.78125 10.40625 \nL 48.78125 2.09375 \nQ 45.015625 0.34375 40.984375 -0.53125 \nQ 36.96875 -1.421875 32.421875 -1.421875 \nQ 20.0625 -1.421875 12.78125 6.34375 \nQ 5.515625 14.109375 5.515625 27.296875 \nQ 5.515625 40.671875 12.859375 48.328125 \nQ 20.21875 56 33.015625 56 \nQ 37.15625 56 41.109375 55.140625 \nQ 45.0625 54.296875 48.78125 52.59375 \nz\n\" id=\"DejaVuSans-99\"/>\n      <path d=\"M 54.890625 33.015625 \nL 54.890625 0 \nL 45.90625 0 \nL 45.90625 32.71875 \nQ 45.90625 40.484375 42.875 44.328125 \nQ 39.84375 48.1875 33.796875 48.1875 \nQ 26.515625 48.1875 22.3125 43.546875 \nQ 18.109375 38.921875 18.109375 30.90625 \nL 18.109375 0 \nL 9.078125 0 \nL 9.078125 75.984375 \nL 18.109375 75.984375 \nL 18.109375 46.1875 \nQ 21.34375 51.125 25.703125 53.5625 \nQ 30.078125 56 35.796875 56 \nQ 45.21875 56 50.046875 50.171875 \nQ 54.890625 44.34375 54.890625 33.015625 \nz\n\" id=\"DejaVuSans-104\"/>\n     </defs>\n     <g transform=\"translate(125.25 174.288026)scale(0.1 -0.1)\">\n      <use xlink:href=\"#DejaVuSans-101\"/>\n      <use x=\"61.523438\" xlink:href=\"#DejaVuSans-112\"/>\n      <use x=\"125\" xlink:href=\"#DejaVuSans-111\"/>\n      <use x=\"186.181641\" xlink:href=\"#DejaVuSans-99\"/>\n      <use x=\"241.162109\" xlink:href=\"#DejaVuSans-104\"/>\n     </g>\n    </g>\n   </g>\n   <g id=\"matplotlib.axis_2\">\n    <g id=\"ytick_1\">\n     <g id=\"line2d_9\">\n      <path clip-path=\"url(#pe830864708)\" d=\"M 42.828125 128.151918 \nL 238.128125 128.151918 \n\" style=\"fill:none;stroke:#b0b0b0;stroke-linecap:square;stroke-width:0.8;\"/>\n     </g>\n     <g id=\"line2d_10\">\n      <defs>\n       <path d=\"M 0 0 \nL -3.5 0 \n\" id=\"m30d61cb81a\" style=\"stroke:#000000;stroke-width:0.8;\"/>\n      </defs>\n      <g>\n       <use style=\"stroke:#000000;stroke-width:0.8;\" x=\"42.828125\" xlink:href=\"#m30d61cb81a\" y=\"128.151918\"/>\n      </g>\n     </g>\n     <g id=\"text_6\">\n      <!-- 0.005 -->\n      <defs>\n       <path d=\"M 10.6875 12.40625 \nL 21 12.40625 \nL 21 0 \nL 10.6875 0 \nz\n\" id=\"DejaVuSans-46\"/>\n      </defs>\n      <g transform=\"translate(7.2 131.951136)scale(0.1 -0.1)\">\n       <use xlink:href=\"#DejaVuSans-48\"/>\n       <use x=\"63.623047\" xlink:href=\"#DejaVuSans-46\"/>\n       <use x=\"95.410156\" xlink:href=\"#DejaVuSans-48\"/>\n       <use x=\"159.033203\" xlink:href=\"#DejaVuSans-48\"/>\n       <use x=\"222.65625\" xlink:href=\"#DejaVuSans-53\"/>\n      </g>\n     </g>\n    </g>\n    <g id=\"ytick_2\">\n     <g id=\"line2d_11\">\n      <path clip-path=\"url(#pe830864708)\" d=\"M 42.828125 89.101018 \nL 238.128125 89.101018 \n\" style=\"fill:none;stroke:#b0b0b0;stroke-linecap:square;stroke-width:0.8;\"/>\n     </g>\n     <g id=\"line2d_12\">\n      <g>\n       <use style=\"stroke:#000000;stroke-width:0.8;\" x=\"42.828125\" xlink:href=\"#m30d61cb81a\" y=\"89.101018\"/>\n      </g>\n     </g>\n     <g id=\"text_7\">\n      <!-- 0.010 -->\n      <g transform=\"translate(7.2 92.900237)scale(0.1 -0.1)\">\n       <use xlink:href=\"#DejaVuSans-48\"/>\n       <use x=\"63.623047\" xlink:href=\"#DejaVuSans-46\"/>\n       <use x=\"95.410156\" xlink:href=\"#DejaVuSans-48\"/>\n       <use x=\"159.033203\" xlink:href=\"#DejaVuSans-49\"/>\n       <use x=\"222.65625\" xlink:href=\"#DejaVuSans-48\"/>\n      </g>\n     </g>\n    </g>\n    <g id=\"ytick_3\">\n     <g id=\"line2d_13\">\n      <path clip-path=\"url(#pe830864708)\" d=\"M 42.828125 50.050118 \nL 238.128125 50.050118 \n\" style=\"fill:none;stroke:#b0b0b0;stroke-linecap:square;stroke-width:0.8;\"/>\n     </g>\n     <g id=\"line2d_14\">\n      <g>\n       <use style=\"stroke:#000000;stroke-width:0.8;\" x=\"42.828125\" xlink:href=\"#m30d61cb81a\" y=\"50.050118\"/>\n      </g>\n     </g>\n     <g id=\"text_8\">\n      <!-- 0.015 -->\n      <g transform=\"translate(7.2 53.849337)scale(0.1 -0.1)\">\n       <use xlink:href=\"#DejaVuSans-48\"/>\n       <use x=\"63.623047\" xlink:href=\"#DejaVuSans-46\"/>\n       <use x=\"95.410156\" xlink:href=\"#DejaVuSans-48\"/>\n       <use x=\"159.033203\" xlink:href=\"#DejaVuSans-49\"/>\n       <use x=\"222.65625\" xlink:href=\"#DejaVuSans-53\"/>\n      </g>\n     </g>\n    </g>\n    <g id=\"ytick_4\">\n     <g id=\"line2d_15\">\n      <path clip-path=\"url(#pe830864708)\" d=\"M 42.828125 10.999219 \nL 238.128125 10.999219 \n\" style=\"fill:none;stroke:#b0b0b0;stroke-linecap:square;stroke-width:0.8;\"/>\n     </g>\n     <g id=\"line2d_16\">\n      <g>\n       <use style=\"stroke:#000000;stroke-width:0.8;\" x=\"42.828125\" xlink:href=\"#m30d61cb81a\" y=\"10.999219\"/>\n      </g>\n     </g>\n     <g id=\"text_9\">\n      <!-- 0.020 -->\n      <g transform=\"translate(7.2 14.798437)scale(0.1 -0.1)\">\n       <use xlink:href=\"#DejaVuSans-48\"/>\n       <use x=\"63.623047\" xlink:href=\"#DejaVuSans-46\"/>\n       <use x=\"95.410156\" xlink:href=\"#DejaVuSans-48\"/>\n       <use x=\"159.033203\" xlink:href=\"#DejaVuSans-50\"/>\n       <use x=\"222.65625\" xlink:href=\"#DejaVuSans-48\"/>\n      </g>\n     </g>\n    </g>\n   </g>\n   <g id=\"line2d_17\">\n    <path clip-path=\"url(#pe830864708)\" d=\"M 42.828125 16.288736 \nL 53.107072 127.687094 \nL 63.38602 128.99979 \nL 73.664967 130.560678 \nL 83.943914 132.338197 \nL 94.222862 133.077037 \nL 104.501809 133.616461 \nL 114.780757 134.992281 \nL 125.059704 135.338029 \nL 135.338651 136.102692 \nL 145.617599 136.848705 \nL 155.896546 137.191584 \nL 166.175493 137.921816 \nL 176.454441 138.390943 \nL 186.733388 138.791208 \nL 197.012336 138.733822 \nL 207.291283 139.162779 \nL 217.57023 139.195776 \nL 227.849178 139.834191 \nL 238.128125 139.680684 \n\" style=\"fill:none;stroke:#1f77b4;stroke-linecap:square;stroke-width:1.5;\"/>\n   </g>\n   <g id=\"line2d_18\">\n    <path clip-path=\"url(#pe830864708)\" d=\"M 42.828125 112.664648 \nL 53.107072 122.437946 \nL 63.38602 125.826183 \nL 73.664967 127.881091 \nL 83.943914 129.323385 \nL 94.222862 130.308001 \nL 104.501809 131.104086 \nL 114.780757 131.924093 \nL 125.059704 132.564372 \nL 135.338651 133.201259 \nL 145.617599 133.861354 \nL 155.896546 134.396649 \nL 166.175493 134.924832 \nL 176.454441 135.478444 \nL 186.733388 135.900989 \nL 197.012336 136.379187 \nL 207.291283 136.802869 \nL 217.57023 137.250521 \nL 227.849178 137.573089 \nL 238.128125 137.890974 \n\" style=\"fill:none;stroke:#bf00bf;stroke-dasharray:5.55,2.4;stroke-dashoffset:0;stroke-width:1.5;\"/>\n   </g>\n   <g id=\"patch_3\">\n    <path d=\"M 42.828125 146.011464 \nL 42.828125 10.111464 \n\" style=\"fill:none;stroke:#000000;stroke-linecap:square;stroke-linejoin:miter;stroke-width:0.8;\"/>\n   </g>\n   <g id=\"patch_4\">\n    <path d=\"M 238.128125 146.011464 \nL 238.128125 10.111464 \n\" style=\"fill:none;stroke:#000000;stroke-linecap:square;stroke-linejoin:miter;stroke-width:0.8;\"/>\n   </g>\n   <g id=\"patch_5\">\n    <path d=\"M 42.828125 146.011464 \nL 238.128125 146.011464 \n\" style=\"fill:none;stroke:#000000;stroke-linecap:square;stroke-linejoin:miter;stroke-width:0.8;\"/>\n   </g>\n   <g id=\"patch_6\">\n    <path d=\"M 42.828125 10.111464 \nL 238.128125 10.111464 \n\" style=\"fill:none;stroke:#000000;stroke-linecap:square;stroke-linejoin:miter;stroke-width:0.8;\"/>\n   </g>\n   <g id=\"legend_1\">\n    <g id=\"patch_7\">\n     <path d=\"M 146.921875 47.467714 \nL 231.128125 47.467714 \nQ 233.128125 47.467714 233.128125 45.467714 \nL 233.128125 17.111464 \nQ 233.128125 15.111464 231.128125 15.111464 \nL 146.921875 15.111464 \nQ 144.921875 15.111464 144.921875 17.111464 \nL 144.921875 45.467714 \nQ 144.921875 47.467714 146.921875 47.467714 \nz\n\" style=\"fill:#ffffff;opacity:0.8;stroke:#cccccc;stroke-linejoin:miter;\"/>\n    </g>\n    <g id=\"line2d_19\">\n     <path d=\"M 148.921875 23.209901 \nL 168.921875 23.209901 \n\" style=\"fill:none;stroke:#1f77b4;stroke-linecap:square;stroke-width:1.5;\"/>\n    </g>\n    <g id=\"line2d_20\"/>\n    <g id=\"text_10\">\n     <!-- class error -->\n     <defs>\n      <path d=\"M 9.421875 75.984375 \nL 18.40625 75.984375 \nL 18.40625 0 \nL 9.421875 0 \nz\n\" id=\"DejaVuSans-108\"/>\n      <path d=\"M 34.28125 27.484375 \nQ 23.390625 27.484375 19.1875 25 \nQ 14.984375 22.515625 14.984375 16.5 \nQ 14.984375 11.71875 18.140625 8.90625 \nQ 21.296875 6.109375 26.703125 6.109375 \nQ 34.1875 6.109375 38.703125 11.40625 \nQ 43.21875 16.703125 43.21875 25.484375 \nL 43.21875 27.484375 \nz\nM 52.203125 31.203125 \nL 52.203125 0 \nL 43.21875 0 \nL 43.21875 8.296875 \nQ 40.140625 3.328125 35.546875 0.953125 \nQ 30.953125 -1.421875 24.3125 -1.421875 \nQ 15.921875 -1.421875 10.953125 3.296875 \nQ 6 8.015625 6 15.921875 \nQ 6 25.140625 12.171875 29.828125 \nQ 18.359375 34.515625 30.609375 34.515625 \nL 43.21875 34.515625 \nL 43.21875 35.40625 \nQ 43.21875 41.609375 39.140625 45 \nQ 35.0625 48.390625 27.6875 48.390625 \nQ 23 48.390625 18.546875 47.265625 \nQ 14.109375 46.140625 10.015625 43.890625 \nL 10.015625 52.203125 \nQ 14.9375 54.109375 19.578125 55.046875 \nQ 24.21875 56 28.609375 56 \nQ 40.484375 56 46.34375 49.84375 \nQ 52.203125 43.703125 52.203125 31.203125 \nz\n\" id=\"DejaVuSans-97\"/>\n      <path d=\"M 44.28125 53.078125 \nL 44.28125 44.578125 \nQ 40.484375 46.53125 36.375 47.5 \nQ 32.28125 48.484375 27.875 48.484375 \nQ 21.1875 48.484375 17.84375 46.4375 \nQ 14.5 44.390625 14.5 40.28125 \nQ 14.5 37.15625 16.890625 35.375 \nQ 19.28125 33.59375 26.515625 31.984375 \nL 29.59375 31.296875 \nQ 39.15625 29.25 43.1875 25.515625 \nQ 47.21875 21.78125 47.21875 15.09375 \nQ 47.21875 7.46875 41.1875 3.015625 \nQ 35.15625 -1.421875 24.609375 -1.421875 \nQ 20.21875 -1.421875 15.453125 -0.5625 \nQ 10.6875 0.296875 5.421875 2 \nL 5.421875 11.28125 \nQ 10.40625 8.6875 15.234375 7.390625 \nQ 20.0625 6.109375 24.8125 6.109375 \nQ 31.15625 6.109375 34.5625 8.28125 \nQ 37.984375 10.453125 37.984375 14.40625 \nQ 37.984375 18.0625 35.515625 20.015625 \nQ 33.0625 21.96875 24.703125 23.78125 \nL 21.578125 24.515625 \nQ 13.234375 26.265625 9.515625 29.90625 \nQ 5.8125 33.546875 5.8125 39.890625 \nQ 5.8125 47.609375 11.28125 51.796875 \nQ 16.75 56 26.8125 56 \nQ 31.78125 56 36.171875 55.265625 \nQ 40.578125 54.546875 44.28125 53.078125 \nz\n\" id=\"DejaVuSans-115\"/>\n      <path id=\"DejaVuSans-32\"/>\n      <path d=\"M 41.109375 46.296875 \nQ 39.59375 47.171875 37.8125 47.578125 \nQ 36.03125 48 33.890625 48 \nQ 26.265625 48 22.1875 43.046875 \nQ 18.109375 38.09375 18.109375 28.8125 \nL 18.109375 0 \nL 9.078125 0 \nL 9.078125 54.6875 \nL 18.109375 54.6875 \nL 18.109375 46.1875 \nQ 20.953125 51.171875 25.484375 53.578125 \nQ 30.03125 56 36.53125 56 \nQ 37.453125 56 38.578125 55.875 \nQ 39.703125 55.765625 41.0625 55.515625 \nz\n\" id=\"DejaVuSans-114\"/>\n     </defs>\n     <g transform=\"translate(176.921875 26.709901)scale(0.1 -0.1)\">\n      <use xlink:href=\"#DejaVuSans-99\"/>\n      <use x=\"54.980469\" xlink:href=\"#DejaVuSans-108\"/>\n      <use x=\"82.763672\" xlink:href=\"#DejaVuSans-97\"/>\n      <use x=\"144.042969\" xlink:href=\"#DejaVuSans-115\"/>\n      <use x=\"196.142578\" xlink:href=\"#DejaVuSans-115\"/>\n      <use x=\"248.242188\" xlink:href=\"#DejaVuSans-32\"/>\n      <use x=\"280.029297\" xlink:href=\"#DejaVuSans-101\"/>\n      <use x=\"341.552734\" xlink:href=\"#DejaVuSans-114\"/>\n      <use x=\"380.916016\" xlink:href=\"#DejaVuSans-114\"/>\n      <use x=\"419.779297\" xlink:href=\"#DejaVuSans-111\"/>\n      <use x=\"480.960938\" xlink:href=\"#DejaVuSans-114\"/>\n     </g>\n    </g>\n    <g id=\"line2d_21\">\n     <path d=\"M 148.921875 37.888026 \nL 168.921875 37.888026 \n\" style=\"fill:none;stroke:#bf00bf;stroke-dasharray:5.55,2.4;stroke-dashoffset:0;stroke-width:1.5;\"/>\n    </g>\n    <g id=\"line2d_22\"/>\n    <g id=\"text_11\">\n     <!-- bbox mae -->\n     <defs>\n      <path d=\"M 48.6875 27.296875 \nQ 48.6875 37.203125 44.609375 42.84375 \nQ 40.53125 48.484375 33.40625 48.484375 \nQ 26.265625 48.484375 22.1875 42.84375 \nQ 18.109375 37.203125 18.109375 27.296875 \nQ 18.109375 17.390625 22.1875 11.75 \nQ 26.265625 6.109375 33.40625 6.109375 \nQ 40.53125 6.109375 44.609375 11.75 \nQ 48.6875 17.390625 48.6875 27.296875 \nz\nM 18.109375 46.390625 \nQ 20.953125 51.265625 25.265625 53.625 \nQ 29.59375 56 35.59375 56 \nQ 45.5625 56 51.78125 48.09375 \nQ 58.015625 40.1875 58.015625 27.296875 \nQ 58.015625 14.40625 51.78125 6.484375 \nQ 45.5625 -1.421875 35.59375 -1.421875 \nQ 29.59375 -1.421875 25.265625 0.953125 \nQ 20.953125 3.328125 18.109375 8.203125 \nL 18.109375 0 \nL 9.078125 0 \nL 9.078125 75.984375 \nL 18.109375 75.984375 \nz\n\" id=\"DejaVuSans-98\"/>\n      <path d=\"M 54.890625 54.6875 \nL 35.109375 28.078125 \nL 55.90625 0 \nL 45.3125 0 \nL 29.390625 21.484375 \nL 13.484375 0 \nL 2.875 0 \nL 24.125 28.609375 \nL 4.6875 54.6875 \nL 15.28125 54.6875 \nL 29.78125 35.203125 \nL 44.28125 54.6875 \nz\n\" id=\"DejaVuSans-120\"/>\n      <path d=\"M 52 44.1875 \nQ 55.375 50.25 60.0625 53.125 \nQ 64.75 56 71.09375 56 \nQ 79.640625 56 84.28125 50.015625 \nQ 88.921875 44.046875 88.921875 33.015625 \nL 88.921875 0 \nL 79.890625 0 \nL 79.890625 32.71875 \nQ 79.890625 40.578125 77.09375 44.375 \nQ 74.3125 48.1875 68.609375 48.1875 \nQ 61.625 48.1875 57.5625 43.546875 \nQ 53.515625 38.921875 53.515625 30.90625 \nL 53.515625 0 \nL 44.484375 0 \nL 44.484375 32.71875 \nQ 44.484375 40.625 41.703125 44.40625 \nQ 38.921875 48.1875 33.109375 48.1875 \nQ 26.21875 48.1875 22.15625 43.53125 \nQ 18.109375 38.875 18.109375 30.90625 \nL 18.109375 0 \nL 9.078125 0 \nL 9.078125 54.6875 \nL 18.109375 54.6875 \nL 18.109375 46.1875 \nQ 21.1875 51.21875 25.484375 53.609375 \nQ 29.78125 56 35.6875 56 \nQ 41.65625 56 45.828125 52.96875 \nQ 50 49.953125 52 44.1875 \nz\n\" id=\"DejaVuSans-109\"/>\n     </defs>\n     <g transform=\"translate(176.921875 41.388026)scale(0.1 -0.1)\">\n      <use xlink:href=\"#DejaVuSans-98\"/>\n      <use x=\"63.476562\" xlink:href=\"#DejaVuSans-98\"/>\n      <use x=\"126.953125\" xlink:href=\"#DejaVuSans-111\"/>\n      <use x=\"185.009766\" xlink:href=\"#DejaVuSans-120\"/>\n      <use x=\"244.189453\" xlink:href=\"#DejaVuSans-32\"/>\n      <use x=\"275.976562\" xlink:href=\"#DejaVuSans-109\"/>\n      <use x=\"373.388672\" xlink:href=\"#DejaVuSans-97\"/>\n      <use x=\"434.667969\" xlink:href=\"#DejaVuSans-101\"/>\n     </g>\n    </g>\n   </g>\n  </g>\n </g>\n <defs>\n  <clipPath id=\"pe830864708\">\n   <rect height=\"135.9\" width=\"195.3\" x=\"42.828125\" y=\"10.111464\"/>\n  </clipPath>\n </defs>\n</svg>\n"
          },
          "metadata": {
            "needs_background": "light"
          }
        }
      ],
      "source": [
        "num_epochs, timer = 20, d2l.Timer()\n",
        "animator = d2l.Animator(xlabel='epoch', xlim=[1, num_epochs],\n",
        "                        legend=['class error', 'bbox mae'])\n",
        "for epoch in range(num_epochs):\n",
        "    # Sum of training accuracy, no. of examples in sum of training accuracy,\n",
        "    # Sum of absolute error, no. of examples in sum of absolute error\n",
        "    metric = d2l.Accumulator(4)\n",
        "    for features, target in train_iter:\n",
        "        timer.start()\n",
        "        X = features.as_in_ctx(device)\n",
        "        Y = target.as_in_ctx(device)\n",
        "        with autograd.record():\n",
        "            # Generate multiscale anchor boxes and predict their classes and\n",
        "            # offsets\n",
        "            anchors, cls_preds, bbox_preds = net(X)\n",
        "            # Label the classes and offsets of these anchor boxes\n",
        "            bbox_labels, bbox_masks, cls_labels = d2l.multibox_target(anchors,\n",
        "                                                                      Y)\n",
        "            # Calculate the loss function using the predicted and labeled\n",
        "            # values of the classes and offsets\n",
        "            l = calc_loss(cls_preds, cls_labels, bbox_preds, bbox_labels,\n",
        "                          bbox_masks)\n",
        "        l.backward()\n",
        "        trainer.step(batch_size)\n",
        "        metric.add(cls_eval(cls_preds, cls_labels), cls_labels.size,\n",
        "                   bbox_eval(bbox_preds, bbox_labels, bbox_masks),\n",
        "                   bbox_labels.size)\n",
        "    cls_err, bbox_mae = 1 - metric[0] / metric[1], metric[2] / metric[3]\n",
        "    animator.add(epoch + 1, (cls_err, bbox_mae))\n",
        "print(f'class err {cls_err:.2e}, bbox mae {bbox_mae:.2e}')\n",
        "print(f'{len(train_iter._dataset) / timer.stop():.1f} examples/sec on '\n",
        "      f'{str(device)}')"
      ]
    },
    {
      "cell_type": "code",
      "source": [
        ""
      ],
      "metadata": {
        "id": "anXORuCBtQ5L"
      },
      "id": "anXORuCBtQ5L",
      "execution_count": null,
      "outputs": []
    },
    {
      "cell_type": "markdown",
      "id": "782ca280",
      "metadata": {
        "origin_pos": 51,
        "id": "782ca280"
      },
      "source": [
        "## [**Prediction**]\n",
        "\n",
        "During prediction,\n",
        "the goal is to detect all the objects of interest\n",
        "on the image.\n",
        "Below\n",
        "we read and resize a test image,\n",
        "converting it to\n",
        "a four-dimensional tensor that is\n",
        "required by convolutional layers.\n"
      ]
    },
    {
      "cell_type": "code",
      "execution_count": 29,
      "id": "7d9b7666",
      "metadata": {
        "execution": {
          "iopub.execute_input": "2022-07-13T10:35:53.501481Z",
          "iopub.status.busy": "2022-07-13T10:35:53.500866Z",
          "iopub.status.idle": "2022-07-13T10:35:53.506411Z",
          "shell.execute_reply": "2022-07-13T10:35:53.505400Z"
        },
        "origin_pos": 52,
        "tab": [
          "mxnet"
        ],
        "id": "7d9b7666"
      },
      "outputs": [],
      "source": [
        "img = image.imread('/content/banana.jpg')\n",
        "feature = image.imresize(img, 256, 256).astype('float32')\n",
        "X = np.expand_dims(feature.transpose(2, 0, 1), axis=0)"
      ]
    },
    {
      "cell_type": "markdown",
      "id": "d4fef2b5",
      "metadata": {
        "origin_pos": 54,
        "id": "d4fef2b5"
      },
      "source": [
        "Using the `multibox_detection` function below,\n",
        "the predicted bounding boxes\n",
        "are obtained\n",
        "from the anchor boxes and their predicted offsets.\n",
        "Then non-maximum suppression is used\n",
        "to remove similar predicted bounding boxes.\n"
      ]
    },
    {
      "cell_type": "code",
      "execution_count": 30,
      "id": "c9dd1b0a",
      "metadata": {
        "execution": {
          "iopub.execute_input": "2022-07-13T10:35:53.511476Z",
          "iopub.status.busy": "2022-07-13T10:35:53.510668Z",
          "iopub.status.idle": "2022-07-13T10:35:59.402932Z",
          "shell.execute_reply": "2022-07-13T10:35:59.401835Z"
        },
        "origin_pos": 55,
        "tab": [
          "mxnet"
        ],
        "id": "c9dd1b0a"
      },
      "outputs": [],
      "source": [
        "def predict(X):\n",
        "    anchors, cls_preds, bbox_preds = net(X.as_in_ctx(device))\n",
        "    cls_probs = npx.softmax(cls_preds).transpose(0, 2, 1)\n",
        "    output = d2l.multibox_detection(cls_probs, bbox_preds, anchors)\n",
        "    idx = [i for i, row in enumerate(output[0]) if row[0] != -1]\n",
        "    return output[0, idx]\n",
        "\n",
        "output = predict(X)"
      ]
    },
    {
      "cell_type": "code",
      "source": [
        "output"
      ],
      "metadata": {
        "id": "qvolCxA0tsa4",
        "outputId": "a18dfaa9-aede-4525-8d94-cad8a42e74ec",
        "colab": {
          "base_uri": "https://localhost:8080/"
        }
      },
      "id": "qvolCxA0tsa4",
      "execution_count": 31,
      "outputs": [
        {
          "output_type": "execute_result",
          "data": {
            "text/plain": [
              "array([[ 0.        ,  0.35189006,  0.6770627 ,  0.52337265,  0.89356977,\n",
              "         0.7246715 ],\n",
              "       [ 0.        ,  0.17255008,  0.72159564,  0.46285966,  0.9261198 ,\n",
              "         0.66474706],\n",
              "       [ 0.        ,  0.15931755,  0.6076169 ,  0.57382905,  0.8560221 ,\n",
              "         0.796407  ],\n",
              "       [ 0.        ,  0.14612176,  0.8158494 ,  0.5111276 ,  1.0553076 ,\n",
              "         0.72161007],\n",
              "       [ 0.        ,  0.13698126,  0.60815835,  0.47761285,  0.81908774,\n",
              "         0.7068089 ],\n",
              "       [ 0.        ,  0.10576656,  0.8235896 ,  0.40687692,  1.0265393 ,\n",
              "         0.62858796],\n",
              "       [ 0.        ,  0.1015623 ,  0.54191524,  0.5660944 ,  0.7703702 ,\n",
              "         0.8057786 ],\n",
              "       [ 0.        ,  0.09738847,  0.57015   ,  0.63114417,  0.8063712 ,\n",
              "         0.90347767],\n",
              "       [ 0.        ,  0.09153005,  0.7901397 ,  0.57200056,  1.0391587 ,\n",
              "         0.779265  ],\n",
              "       [ 0.        ,  0.08050252,  0.66722095,  0.4185608 ,  0.87915206,\n",
              "         0.6471736 ],\n",
              "       [ 0.        ,  0.07715039,  0.8283062 ,  0.3220458 ,  1.0199846 ,\n",
              "         0.56352943],\n",
              "       [ 0.        ,  0.0632301 ,  0.77577233,  0.65043986,  0.99171066,\n",
              "         0.8513036 ],\n",
              "       [ 0.        ,  0.06162211,  0.4133563 ,  0.34546396,  0.63425386,\n",
              "         0.5788933 ],\n",
              "       [ 0.        ,  0.06040814,  0.7462189 ,  0.48731655,  0.96314216,\n",
              "         0.7418415 ],\n",
              "       [ 0.        ,  0.05788323,  0.7389718 ,  0.3958816 ,  0.953439  ,\n",
              "         0.6068625 ],\n",
              "       [ 0.        ,  0.05391792,  0.7223605 ,  0.55709845,  0.93667257,\n",
              "         0.80531925],\n",
              "       [ 0.        ,  0.04991885,  0.7214315 ,  0.33074054,  0.93845046,\n",
              "         0.5387862 ],\n",
              "       [ 0.        ,  0.04886959,  0.7825522 ,  0.21349876,  0.9822547 ,\n",
              "         0.41468066],\n",
              "       [ 0.        ,  0.04816258,  0.510323  ,  0.51018167,  0.7237763 ,\n",
              "         0.72858655],\n",
              "       [ 0.        ,  0.04512753,  0.6124489 ,  0.4106795 ,  0.8172614 ,\n",
              "         0.6128346 ],\n",
              "       [ 0.        ,  0.04455001,  0.55135906,  0.47737405,  0.75483143,\n",
              "         0.67464006],\n",
              "       [ 0.        ,  0.04356782,  0.514966  ,  0.28789034,  0.7189586 ,\n",
              "         0.54091966],\n",
              "       [ 0.        ,  0.04039452,  0.72292197,  0.23940012,  0.9454011 ,\n",
              "         0.4566479 ],\n",
              "       [ 0.        ,  0.0387149 ,  0.7322127 ,  0.6836763 ,  0.94535   ,\n",
              "         0.8934075 ],\n",
              "       [ 0.        ,  0.03792735,  0.33919042,  0.3425815 ,  0.5563123 ,\n",
              "         0.5654884 ],\n",
              "       [ 0.        ,  0.03709725,  0.02000731, -0.11271122,  1.0057166 ,\n",
              "         1.0833805 ],\n",
              "       [ 0.        ,  0.03655525,  0.7750607 ,  0.27110875,  0.994199  ,\n",
              "         0.48893803],\n",
              "       [ 0.        ,  0.03432902,  0.21405005, -0.33307576,  0.63656485,\n",
              "         1.0637995 ],\n",
              "       [ 0.        ,  0.02929258,  0.5306379 ,  0.34955665,  1.1565607 ,\n",
              "         1.3134801 ],\n",
              "       [ 0.        ,  0.02481267,  0.3967731 , -0.34905612,  1.1691039 ,\n",
              "         0.36372036],\n",
              "       [ 0.        ,  0.02434862,  0.4391711 ,  0.2873733 ,  0.6454485 ,\n",
              "         0.49991328],\n",
              "       [ 0.        ,  0.02371526,  0.4741135 ,  0.4276489 ,  0.6845322 ,\n",
              "         0.66391706],\n",
              "       [ 0.        ,  0.02364483,  0.4397514 ,  0.54103065,  0.662326  ,\n",
              "         0.76703346],\n",
              "       [ 0.        ,  0.02088994,  0.65052485,  0.34693885,  0.8475132 ,\n",
              "         0.55186987],\n",
              "       [ 0.        ,  0.01932879,  0.3878185 ,  0.43995672,  0.62413716,\n",
              "         0.665796  ],\n",
              "       [ 0.        ,  0.018695  ,  0.54028744,  0.36052066,  0.75164956,\n",
              "         0.5956678 ],\n",
              "       [ 0.        ,  0.01739891,  0.14357245,  0.67338157,  1.5430206 ,\n",
              "         1.0708902 ],\n",
              "       [ 0.        ,  0.01725781,  0.67080694,  0.66393286,  0.88319916,\n",
              "         0.90757054],\n",
              "       [ 0.        ,  0.01665787,  0.47954994,  0.5997939 ,  0.7031644 ,\n",
              "         0.84560275],\n",
              "       [ 0.        ,  0.01635804,  0.23873116,  0.33176297,  0.47287858,\n",
              "         0.5244041 ],\n",
              "       [ 0.        ,  0.01384015,  0.7491014 ,  0.11491867,  0.98318195,\n",
              "         0.35941482],\n",
              "       [ 0.        ,  0.01260737,  0.86062694,  0.45720595,  1.1144388 ,\n",
              "         0.66277784],\n",
              "       [ 0.        ,  0.01258724,  0.72746897,  0.52779865,  1.3317065 ,\n",
              "         1.3470744 ],\n",
              "       [ 0.        ,  0.01220237,  0.1888668 ,  0.2839212 ,  0.40660042,\n",
              "         0.48166242],\n",
              "       [ 0.        ,  0.0119208 ,  0.6168057 ,  0.6616406 ,  0.8295394 ,\n",
              "         0.8271168 ],\n",
              "       [ 0.        ,  0.01169097,  0.5275616 ,  0.6683629 ,  0.7682473 ,\n",
              "         0.8323607 ],\n",
              "       [ 0.        ,  0.01108329,  0.6231486 ,  0.24376091,  0.84219915,\n",
              "         0.48339346],\n",
              "       [ 0.        ,  0.01094278,  0.634163  ,  0.7559962 ,  0.8806199 ,\n",
              "         0.9827709 ],\n",
              "       [ 0.        ,  0.01048878, -0.01980001,  0.38634062,  1.3678582 ,\n",
              "         0.7763109 ],\n",
              "       [ 0.        ,  0.01018606, -0.1678515 ,  0.6697669 ,  0.46976173,\n",
              "         1.1789527 ],\n",
              "       [ 0.        ,  0.01004715,  0.57024837, -0.16885597,  1.2429985 ,\n",
              "         0.45247346]], ctx=gpu(0))"
            ]
          },
          "metadata": {},
          "execution_count": 31
        }
      ]
    },
    {
      "cell_type": "markdown",
      "id": "20f95871",
      "metadata": {
        "origin_pos": 57,
        "id": "20f95871"
      },
      "source": [
        "Finally, we [**display\n",
        "all the predicted bounding boxes with\n",
        "confidence 0.9 or above**]\n",
        "as output.\n"
      ]
    },
    {
      "cell_type": "code",
      "execution_count": 32,
      "id": "1c3941a4",
      "metadata": {
        "execution": {
          "iopub.execute_input": "2022-07-13T10:35:59.407631Z",
          "iopub.status.busy": "2022-07-13T10:35:59.406803Z",
          "iopub.status.idle": "2022-07-13T10:35:59.626577Z",
          "shell.execute_reply": "2022-07-13T10:35:59.625482Z"
        },
        "origin_pos": 58,
        "tab": [
          "mxnet"
        ],
        "id": "1c3941a4",
        "outputId": "f7cbcc39-7485-4922-ec84-3ae65d651524",
        "colab": {
          "base_uri": "https://localhost:8080/",
          "height": 350
        }
      },
      "outputs": [
        {
          "output_type": "display_data",
          "data": {
            "text/plain": [
              "<Figure size 360x360 with 1 Axes>"
            ],
            "image/svg+xml": "<?xml version=\"1.0\" encoding=\"utf-8\" standalone=\"no\"?>\n<!DOCTYPE svg PUBLIC \"-//W3C//DTD SVG 1.1//EN\"\n  \"http://www.w3.org/Graphics/SVG/1.1/DTD/svg11.dtd\">\n<!-- Created with matplotlib (https://matplotlib.org/) -->\n<svg height=\"246.618415pt\" version=\"1.1\" viewBox=\"0 0 319.4875 246.618415\" width=\"319.4875pt\" xmlns=\"http://www.w3.org/2000/svg\" xmlns:xlink=\"http://www.w3.org/1999/xlink\">\n <defs>\n  <style type=\"text/css\">\n*{stroke-linecap:butt;stroke-linejoin:round;}\n  </style>\n </defs>\n <g id=\"figure_1\">\n  <g id=\"patch_1\">\n   <path d=\"M -0 246.618415 \nL 319.4875 246.618415 \nL 319.4875 0 \nL -0 0 \nz\n\" style=\"fill:none;\"/>\n  </g>\n  <g id=\"axes_1\">\n   <g id=\"patch_2\">\n    <path d=\"M 33.2875 222.74029 \nL 312.2875 222.74029 \nL 312.2875 10.168862 \nL 33.2875 10.168862 \nz\n\" style=\"fill:#ffffff;\"/>\n   </g>\n   <g clip-path=\"url(#pa96f947790)\">\n    <image height=\"213\" id=\"image715737b03b\" transform=\"scale(1 -1)translate(0 -213)\" width=\"279\" x=\"33.2875\" xlink:href=\"data:image/png;base64,\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\" y=\"-9.74029\"/>\n   </g>\n   <g id=\"matplotlib.axis_1\">\n    <g id=\"xtick_1\">\n     <g id=\"line2d_1\">\n      <defs>\n       <path d=\"M 0 0 \nL 0 3.5 \n\" id=\"mc0e2d29bc6\" style=\"stroke:#000000;stroke-width:0.8;\"/>\n      </defs>\n      <g>\n       <use style=\"stroke:#000000;stroke-width:0.8;\" x=\"34.117857\" xlink:href=\"#mc0e2d29bc6\" y=\"222.74029\"/>\n      </g>\n     </g>\n     <g id=\"text_1\">\n      <!-- 0 -->\n      <defs>\n       <path d=\"M 31.78125 66.40625 \nQ 24.171875 66.40625 20.328125 58.90625 \nQ 16.5 51.421875 16.5 36.375 \nQ 16.5 21.390625 20.328125 13.890625 \nQ 24.171875 6.390625 31.78125 6.390625 \nQ 39.453125 6.390625 43.28125 13.890625 \nQ 47.125 21.390625 47.125 36.375 \nQ 47.125 51.421875 43.28125 58.90625 \nQ 39.453125 66.40625 31.78125 66.40625 \nz\nM 31.78125 74.21875 \nQ 44.046875 74.21875 50.515625 64.515625 \nQ 56.984375 54.828125 56.984375 36.375 \nQ 56.984375 17.96875 50.515625 8.265625 \nQ 44.046875 -1.421875 31.78125 -1.421875 \nQ 19.53125 -1.421875 13.0625 8.265625 \nQ 6.59375 17.96875 6.59375 36.375 \nQ 6.59375 54.828125 13.0625 64.515625 \nQ 19.53125 74.21875 31.78125 74.21875 \nz\n\" id=\"DejaVuSans-48\"/>\n      </defs>\n      <g transform=\"translate(30.936607 237.338728)scale(0.1 -0.1)\">\n       <use xlink:href=\"#DejaVuSans-48\"/>\n      </g>\n     </g>\n    </g>\n    <g id=\"xtick_2\">\n     <g id=\"line2d_2\">\n      <g>\n       <use style=\"stroke:#000000;stroke-width:0.8;\" x=\"67.332143\" xlink:href=\"#mc0e2d29bc6\" y=\"222.74029\"/>\n      </g>\n     </g>\n     <g id=\"text_2\">\n      <!-- 20 -->\n      <defs>\n       <path d=\"M 19.1875 8.296875 \nL 53.609375 8.296875 \nL 53.609375 0 \nL 7.328125 0 \nL 7.328125 8.296875 \nQ 12.9375 14.109375 22.625 23.890625 \nQ 32.328125 33.6875 34.8125 36.53125 \nQ 39.546875 41.84375 41.421875 45.53125 \nQ 43.3125 49.21875 43.3125 52.78125 \nQ 43.3125 58.59375 39.234375 62.25 \nQ 35.15625 65.921875 28.609375 65.921875 \nQ 23.96875 65.921875 18.8125 64.3125 \nQ 13.671875 62.703125 7.8125 59.421875 \nL 7.8125 69.390625 \nQ 13.765625 71.78125 18.9375 73 \nQ 24.125 74.21875 28.421875 74.21875 \nQ 39.75 74.21875 46.484375 68.546875 \nQ 53.21875 62.890625 53.21875 53.421875 \nQ 53.21875 48.921875 51.53125 44.890625 \nQ 49.859375 40.875 45.40625 35.40625 \nQ 44.1875 33.984375 37.640625 27.21875 \nQ 31.109375 20.453125 19.1875 8.296875 \nz\n\" id=\"DejaVuSans-50\"/>\n      </defs>\n      <g transform=\"translate(60.969643 237.338728)scale(0.1 -0.1)\">\n       <use xlink:href=\"#DejaVuSans-50\"/>\n       <use x=\"63.623047\" xlink:href=\"#DejaVuSans-48\"/>\n      </g>\n     </g>\n    </g>\n    <g id=\"xtick_3\">\n     <g id=\"line2d_3\">\n      <g>\n       <use style=\"stroke:#000000;stroke-width:0.8;\" x=\"100.546429\" xlink:href=\"#mc0e2d29bc6\" y=\"222.74029\"/>\n      </g>\n     </g>\n     <g id=\"text_3\">\n      <!-- 40 -->\n      <defs>\n       <path d=\"M 37.796875 64.3125 \nL 12.890625 25.390625 \nL 37.796875 25.390625 \nz\nM 35.203125 72.90625 \nL 47.609375 72.90625 \nL 47.609375 25.390625 \nL 58.015625 25.390625 \nL 58.015625 17.1875 \nL 47.609375 17.1875 \nL 47.609375 0 \nL 37.796875 0 \nL 37.796875 17.1875 \nL 4.890625 17.1875 \nL 4.890625 26.703125 \nz\n\" id=\"DejaVuSans-52\"/>\n      </defs>\n      <g transform=\"translate(94.183929 237.338728)scale(0.1 -0.1)\">\n       <use xlink:href=\"#DejaVuSans-52\"/>\n       <use x=\"63.623047\" xlink:href=\"#DejaVuSans-48\"/>\n      </g>\n     </g>\n    </g>\n    <g id=\"xtick_4\">\n     <g id=\"line2d_4\">\n      <g>\n       <use style=\"stroke:#000000;stroke-width:0.8;\" x=\"133.760714\" xlink:href=\"#mc0e2d29bc6\" y=\"222.74029\"/>\n      </g>\n     </g>\n     <g id=\"text_4\">\n      <!-- 60 -->\n      <defs>\n       <path d=\"M 33.015625 40.375 \nQ 26.375 40.375 22.484375 35.828125 \nQ 18.609375 31.296875 18.609375 23.390625 \nQ 18.609375 15.53125 22.484375 10.953125 \nQ 26.375 6.390625 33.015625 6.390625 \nQ 39.65625 6.390625 43.53125 10.953125 \nQ 47.40625 15.53125 47.40625 23.390625 \nQ 47.40625 31.296875 43.53125 35.828125 \nQ 39.65625 40.375 33.015625 40.375 \nz\nM 52.59375 71.296875 \nL 52.59375 62.3125 \nQ 48.875 64.0625 45.09375 64.984375 \nQ 41.3125 65.921875 37.59375 65.921875 \nQ 27.828125 65.921875 22.671875 59.328125 \nQ 17.53125 52.734375 16.796875 39.40625 \nQ 19.671875 43.65625 24.015625 45.921875 \nQ 28.375 48.1875 33.59375 48.1875 \nQ 44.578125 48.1875 50.953125 41.515625 \nQ 57.328125 34.859375 57.328125 23.390625 \nQ 57.328125 12.15625 50.6875 5.359375 \nQ 44.046875 -1.421875 33.015625 -1.421875 \nQ 20.359375 -1.421875 13.671875 8.265625 \nQ 6.984375 17.96875 6.984375 36.375 \nQ 6.984375 53.65625 15.1875 63.9375 \nQ 23.390625 74.21875 37.203125 74.21875 \nQ 40.921875 74.21875 44.703125 73.484375 \nQ 48.484375 72.75 52.59375 71.296875 \nz\n\" id=\"DejaVuSans-54\"/>\n      </defs>\n      <g transform=\"translate(127.398214 237.338728)scale(0.1 -0.1)\">\n       <use xlink:href=\"#DejaVuSans-54\"/>\n       <use x=\"63.623047\" xlink:href=\"#DejaVuSans-48\"/>\n      </g>\n     </g>\n    </g>\n    <g id=\"xtick_5\">\n     <g id=\"line2d_5\">\n      <g>\n       <use style=\"stroke:#000000;stroke-width:0.8;\" x=\"166.975\" xlink:href=\"#mc0e2d29bc6\" y=\"222.74029\"/>\n      </g>\n     </g>\n     <g id=\"text_5\">\n      <!-- 80 -->\n      <defs>\n       <path d=\"M 31.78125 34.625 \nQ 24.75 34.625 20.71875 30.859375 \nQ 16.703125 27.09375 16.703125 20.515625 \nQ 16.703125 13.921875 20.71875 10.15625 \nQ 24.75 6.390625 31.78125 6.390625 \nQ 38.8125 6.390625 42.859375 10.171875 \nQ 46.921875 13.96875 46.921875 20.515625 \nQ 46.921875 27.09375 42.890625 30.859375 \nQ 38.875 34.625 31.78125 34.625 \nz\nM 21.921875 38.8125 \nQ 15.578125 40.375 12.03125 44.71875 \nQ 8.5 49.078125 8.5 55.328125 \nQ 8.5 64.0625 14.71875 69.140625 \nQ 20.953125 74.21875 31.78125 74.21875 \nQ 42.671875 74.21875 48.875 69.140625 \nQ 55.078125 64.0625 55.078125 55.328125 \nQ 55.078125 49.078125 51.53125 44.71875 \nQ 48 40.375 41.703125 38.8125 \nQ 48.828125 37.15625 52.796875 32.3125 \nQ 56.78125 27.484375 56.78125 20.515625 \nQ 56.78125 9.90625 50.3125 4.234375 \nQ 43.84375 -1.421875 31.78125 -1.421875 \nQ 19.734375 -1.421875 13.25 4.234375 \nQ 6.78125 9.90625 6.78125 20.515625 \nQ 6.78125 27.484375 10.78125 32.3125 \nQ 14.796875 37.15625 21.921875 38.8125 \nz\nM 18.3125 54.390625 \nQ 18.3125 48.734375 21.84375 45.5625 \nQ 25.390625 42.390625 31.78125 42.390625 \nQ 38.140625 42.390625 41.71875 45.5625 \nQ 45.3125 48.734375 45.3125 54.390625 \nQ 45.3125 60.0625 41.71875 63.234375 \nQ 38.140625 66.40625 31.78125 66.40625 \nQ 25.390625 66.40625 21.84375 63.234375 \nQ 18.3125 60.0625 18.3125 54.390625 \nz\n\" id=\"DejaVuSans-56\"/>\n      </defs>\n      <g transform=\"translate(160.6125 237.338728)scale(0.1 -0.1)\">\n       <use xlink:href=\"#DejaVuSans-56\"/>\n       <use x=\"63.623047\" xlink:href=\"#DejaVuSans-48\"/>\n      </g>\n     </g>\n    </g>\n    <g id=\"xtick_6\">\n     <g id=\"line2d_6\">\n      <g>\n       <use style=\"stroke:#000000;stroke-width:0.8;\" x=\"200.189286\" xlink:href=\"#mc0e2d29bc6\" y=\"222.74029\"/>\n      </g>\n     </g>\n     <g id=\"text_6\">\n      <!-- 100 -->\n      <defs>\n       <path d=\"M 12.40625 8.296875 \nL 28.515625 8.296875 \nL 28.515625 63.921875 \nL 10.984375 60.40625 \nL 10.984375 69.390625 \nL 28.421875 72.90625 \nL 38.28125 72.90625 \nL 38.28125 8.296875 \nL 54.390625 8.296875 \nL 54.390625 0 \nL 12.40625 0 \nz\n\" id=\"DejaVuSans-49\"/>\n      </defs>\n      <g transform=\"translate(190.645536 237.338728)scale(0.1 -0.1)\">\n       <use xlink:href=\"#DejaVuSans-49\"/>\n       <use x=\"63.623047\" xlink:href=\"#DejaVuSans-48\"/>\n       <use x=\"127.246094\" xlink:href=\"#DejaVuSans-48\"/>\n      </g>\n     </g>\n    </g>\n    <g id=\"xtick_7\">\n     <g id=\"line2d_7\">\n      <g>\n       <use style=\"stroke:#000000;stroke-width:0.8;\" x=\"233.403571\" xlink:href=\"#mc0e2d29bc6\" y=\"222.74029\"/>\n      </g>\n     </g>\n     <g id=\"text_7\">\n      <!-- 120 -->\n      <g transform=\"translate(223.859821 237.338728)scale(0.1 -0.1)\">\n       <use xlink:href=\"#DejaVuSans-49\"/>\n       <use x=\"63.623047\" xlink:href=\"#DejaVuSans-50\"/>\n       <use x=\"127.246094\" xlink:href=\"#DejaVuSans-48\"/>\n      </g>\n     </g>\n    </g>\n    <g id=\"xtick_8\">\n     <g id=\"line2d_8\">\n      <g>\n       <use style=\"stroke:#000000;stroke-width:0.8;\" x=\"266.617857\" xlink:href=\"#mc0e2d29bc6\" y=\"222.74029\"/>\n      </g>\n     </g>\n     <g id=\"text_8\">\n      <!-- 140 -->\n      <g transform=\"translate(257.074107 237.338728)scale(0.1 -0.1)\">\n       <use xlink:href=\"#DejaVuSans-49\"/>\n       <use x=\"63.623047\" xlink:href=\"#DejaVuSans-52\"/>\n       <use x=\"127.246094\" xlink:href=\"#DejaVuSans-48\"/>\n      </g>\n     </g>\n    </g>\n    <g id=\"xtick_9\">\n     <g id=\"line2d_9\">\n      <g>\n       <use style=\"stroke:#000000;stroke-width:0.8;\" x=\"299.832143\" xlink:href=\"#mc0e2d29bc6\" y=\"222.74029\"/>\n      </g>\n     </g>\n     <g id=\"text_9\">\n      <!-- 160 -->\n      <g transform=\"translate(290.288393 237.338728)scale(0.1 -0.1)\">\n       <use xlink:href=\"#DejaVuSans-49\"/>\n       <use x=\"63.623047\" xlink:href=\"#DejaVuSans-54\"/>\n       <use x=\"127.246094\" xlink:href=\"#DejaVuSans-48\"/>\n      </g>\n     </g>\n    </g>\n   </g>\n   <g id=\"matplotlib.axis_2\">\n    <g id=\"ytick_1\">\n     <g id=\"line2d_10\">\n      <defs>\n       <path d=\"M 0 0 \nL -3.5 0 \n\" id=\"mabda2e6ae3\" style=\"stroke:#000000;stroke-width:0.8;\"/>\n      </defs>\n      <g>\n       <use style=\"stroke:#000000;stroke-width:0.8;\" x=\"33.2875\" xlink:href=\"#mabda2e6ae3\" y=\"10.999219\"/>\n      </g>\n     </g>\n     <g id=\"text_10\">\n      <!-- 0 -->\n      <g transform=\"translate(19.925 14.798438)scale(0.1 -0.1)\">\n       <use xlink:href=\"#DejaVuSans-48\"/>\n      </g>\n     </g>\n    </g>\n    <g id=\"ytick_2\">\n     <g id=\"line2d_11\">\n      <g>\n       <use style=\"stroke:#000000;stroke-width:0.8;\" x=\"33.2875\" xlink:href=\"#mabda2e6ae3\" y=\"44.213504\"/>\n      </g>\n     </g>\n     <g id=\"text_11\">\n      <!-- 20 -->\n      <g transform=\"translate(13.5625 48.012723)scale(0.1 -0.1)\">\n       <use xlink:href=\"#DejaVuSans-50\"/>\n       <use x=\"63.623047\" xlink:href=\"#DejaVuSans-48\"/>\n      </g>\n     </g>\n    </g>\n    <g id=\"ytick_3\">\n     <g id=\"line2d_12\">\n      <g>\n       <use style=\"stroke:#000000;stroke-width:0.8;\" x=\"33.2875\" xlink:href=\"#mabda2e6ae3\" y=\"77.42779\"/>\n      </g>\n     </g>\n     <g id=\"text_12\">\n      <!-- 40 -->\n      <g transform=\"translate(13.5625 81.227009)scale(0.1 -0.1)\">\n       <use xlink:href=\"#DejaVuSans-52\"/>\n       <use x=\"63.623047\" xlink:href=\"#DejaVuSans-48\"/>\n      </g>\n     </g>\n    </g>\n    <g id=\"ytick_4\">\n     <g id=\"line2d_13\">\n      <g>\n       <use style=\"stroke:#000000;stroke-width:0.8;\" x=\"33.2875\" xlink:href=\"#mabda2e6ae3\" y=\"110.642076\"/>\n      </g>\n     </g>\n     <g id=\"text_13\">\n      <!-- 60 -->\n      <g transform=\"translate(13.5625 114.441295)scale(0.1 -0.1)\">\n       <use xlink:href=\"#DejaVuSans-54\"/>\n       <use x=\"63.623047\" xlink:href=\"#DejaVuSans-48\"/>\n      </g>\n     </g>\n    </g>\n    <g id=\"ytick_5\">\n     <g id=\"line2d_14\">\n      <g>\n       <use style=\"stroke:#000000;stroke-width:0.8;\" x=\"33.2875\" xlink:href=\"#mabda2e6ae3\" y=\"143.856362\"/>\n      </g>\n     </g>\n     <g id=\"text_14\">\n      <!-- 80 -->\n      <g transform=\"translate(13.5625 147.65558)scale(0.1 -0.1)\">\n       <use xlink:href=\"#DejaVuSans-56\"/>\n       <use x=\"63.623047\" xlink:href=\"#DejaVuSans-48\"/>\n      </g>\n     </g>\n    </g>\n    <g id=\"ytick_6\">\n     <g id=\"line2d_15\">\n      <g>\n       <use style=\"stroke:#000000;stroke-width:0.8;\" x=\"33.2875\" xlink:href=\"#mabda2e6ae3\" y=\"177.070647\"/>\n      </g>\n     </g>\n     <g id=\"text_15\">\n      <!-- 100 -->\n      <g transform=\"translate(7.2 180.869866)scale(0.1 -0.1)\">\n       <use xlink:href=\"#DejaVuSans-49\"/>\n       <use x=\"63.623047\" xlink:href=\"#DejaVuSans-48\"/>\n       <use x=\"127.246094\" xlink:href=\"#DejaVuSans-48\"/>\n      </g>\n     </g>\n    </g>\n    <g id=\"ytick_7\">\n     <g id=\"line2d_16\">\n      <g>\n       <use style=\"stroke:#000000;stroke-width:0.8;\" x=\"33.2875\" xlink:href=\"#mabda2e6ae3\" y=\"210.284933\"/>\n      </g>\n     </g>\n     <g id=\"text_16\">\n      <!-- 120 -->\n      <g transform=\"translate(7.2 214.084152)scale(0.1 -0.1)\">\n       <use xlink:href=\"#DejaVuSans-49\"/>\n       <use x=\"63.623047\" xlink:href=\"#DejaVuSans-50\"/>\n       <use x=\"127.246094\" xlink:href=\"#DejaVuSans-48\"/>\n      </g>\n     </g>\n    </g>\n   </g>\n   <g id=\"patch_3\">\n    <path d=\"M 33.2875 222.74029 \nL 33.2875 10.168862 \n\" style=\"fill:none;stroke:#000000;stroke-linecap:square;stroke-linejoin:miter;stroke-width:0.8;\"/>\n   </g>\n   <g id=\"patch_4\">\n    <path d=\"M 312.2875 222.74029 \nL 312.2875 10.168862 \n\" style=\"fill:none;stroke:#000000;stroke-linecap:square;stroke-linejoin:miter;stroke-width:0.8;\"/>\n   </g>\n   <g id=\"patch_5\">\n    <path d=\"M 33.2875 222.74029 \nL 312.2875 222.74029 \n\" style=\"fill:none;stroke:#000000;stroke-linecap:square;stroke-linejoin:miter;stroke-width:0.8;\"/>\n   </g>\n   <g id=\"patch_6\">\n    <path d=\"M 33.2875 10.168862 \nL 312.2875 10.168862 \n\" style=\"fill:none;stroke:#000000;stroke-linecap:square;stroke-linejoin:miter;stroke-width:0.8;\"/>\n   </g>\n  </g>\n </g>\n <defs>\n  <clipPath id=\"pa96f947790\">\n   <rect height=\"212.571429\" width=\"279\" x=\"33.2875\" y=\"10.168862\"/>\n  </clipPath>\n </defs>\n</svg>\n"
          },
          "metadata": {
            "needs_background": "light"
          }
        }
      ],
      "source": [
        "def display(img, output, threshold):\n",
        "    d2l.set_figsize((5, 5))\n",
        "    fig = d2l.plt.imshow(img.asnumpy())\n",
        "    for row in output:\n",
        "        score = float(row[1])\n",
        "        if score < threshold:\n",
        "            continue\n",
        "        h, w = img.shape[:2]\n",
        "        bbox = [row[2:6] * np.array((w, h, w, h), ctx=row.ctx)]\n",
        "        d2l.show_bboxes(fig.axes, bbox, '%.2f' % score, 'w')\n",
        "\n",
        "display(img, output, threshold=0.9)"
      ]
    },
    {
      "cell_type": "markdown",
      "id": "7ed7c4ca",
      "metadata": {
        "origin_pos": 60,
        "id": "7ed7c4ca"
      },
      "source": [
        "## Summary\n",
        "\n",
        "* Single shot multibox detection is a multiscale object detection model. Via its base network and several multiscale feature map blocks, single-shot multibox detection generates a varying number of anchor boxes with different sizes, and detects varying-size objects by predicting classes and offsets of these anchor boxes (thus the bounding boxes).\n",
        "* When training the single-shot multibox detection model, the loss function is calculated based on the predicted and labeled values of the anchor box classes and offsets.\n",
        "\n",
        "\n",
        "\n",
        "## Exercises\n",
        "\n",
        "1. Can you improve the single-shot multibox detection by improving the loss function? For example, replace $\\ell_1$ norm loss with smooth $\\ell_1$ norm loss for the predicted offsets. This loss function uses a square function around zero for smoothness, which is controlled by the hyperparameter $\\sigma$:\n",
        "\n",
        "$$\n",
        "f(x) =\n",
        "    \\begin{cases}\n",
        "    (\\sigma x)^2/2,& \\text{if }|x| < 1/\\sigma^2\\\\\n",
        "    |x|-0.5/\\sigma^2,& \\text{otherwise}\n",
        "    \\end{cases}\n",
        "$$\n",
        "\n",
        "When $\\sigma$ is very large, this loss is similar to the $\\ell_1$ norm loss. When its value is smaller, the loss function is smoother.\n"
      ]
    },
    {
      "cell_type": "code",
      "execution_count": 50,
      "id": "d663d658",
      "metadata": {
        "execution": {
          "iopub.execute_input": "2022-07-13T10:35:59.633278Z",
          "iopub.status.busy": "2022-07-13T10:35:59.632429Z",
          "iopub.status.idle": "2022-07-13T10:35:59.776826Z",
          "shell.execute_reply": "2022-07-13T10:35:59.775785Z"
        },
        "origin_pos": 61,
        "tab": [
          "mxnet"
        ],
        "id": "d663d658",
        "outputId": "13ca6c45-6efa-48db-a5a7-d6fe5f6ed184",
        "colab": {
          "base_uri": "https://localhost:8080/"
        }
      },
      "outputs": [
        {
          "output_type": "execute_result",
          "data": {
            "text/plain": [
              "array([-2.00000000e+00, -1.90000000e+00, -1.80000000e+00, -1.70000000e+00,\n",
              "       -1.60000000e+00, -1.50000000e+00, -1.40000000e+00, -1.30000000e+00,\n",
              "       -1.20000000e+00, -1.10000000e+00, -1.00000000e+00, -9.00000000e-01,\n",
              "       -8.00000000e-01, -7.00000000e-01, -6.00000000e-01, -5.00000000e-01,\n",
              "       -4.00000000e-01, -3.00000000e-01, -2.00000000e-01, -1.00000000e-01,\n",
              "        1.77635684e-15,  1.00000000e-01,  2.00000000e-01,  3.00000000e-01,\n",
              "        4.00000000e-01,  5.00000000e-01,  6.00000000e-01,  7.00000000e-01,\n",
              "        8.00000000e-01,  9.00000000e-01,  1.00000000e+00,  1.10000000e+00,\n",
              "        1.20000000e+00,  1.30000000e+00,  1.40000000e+00,  1.50000000e+00,\n",
              "        1.60000000e+00,  1.70000000e+00,  1.80000000e+00,  1.90000000e+00])"
            ]
          },
          "metadata": {},
          "execution_count": 50
        }
      ],
      "source": [
        "sigmas = [10, 1, 0.5]\n",
        "lines = ['-', '--', '-.']\n",
        "x = np.arange(-2, 2, 0.1)\n",
        "x"
      ]
    },
    {
      "cell_type": "code",
      "source": [
        "x = np.array(x,np.float64)\n",
        "x"
      ],
      "metadata": {
        "id": "gdWNkRpDv7oz",
        "outputId": "324eee4f-de72-4649-8c2b-cf5268f2c7a6",
        "colab": {
          "base_uri": "https://localhost:8080/"
        }
      },
      "id": "gdWNkRpDv7oz",
      "execution_count": 51,
      "outputs": [
        {
          "output_type": "execute_result",
          "data": {
            "text/plain": [
              "array([-2.00000000e+00, -1.90000000e+00, -1.80000000e+00, -1.70000000e+00,\n",
              "       -1.60000000e+00, -1.50000000e+00, -1.40000000e+00, -1.30000000e+00,\n",
              "       -1.20000000e+00, -1.10000000e+00, -1.00000000e+00, -9.00000000e-01,\n",
              "       -8.00000000e-01, -7.00000000e-01, -6.00000000e-01, -5.00000000e-01,\n",
              "       -4.00000000e-01, -3.00000000e-01, -2.00000000e-01, -1.00000000e-01,\n",
              "        1.77635684e-15,  1.00000000e-01,  2.00000000e-01,  3.00000000e-01,\n",
              "        4.00000000e-01,  5.00000000e-01,  6.00000000e-01,  7.00000000e-01,\n",
              "        8.00000000e-01,  9.00000000e-01,  1.00000000e+00,  1.10000000e+00,\n",
              "        1.20000000e+00,  1.30000000e+00,  1.40000000e+00,  1.50000000e+00,\n",
              "        1.60000000e+00,  1.70000000e+00,  1.80000000e+00,  1.90000000e+00])"
            ]
          },
          "metadata": {},
          "execution_count": 51
        }
      ]
    },
    {
      "cell_type": "code",
      "source": [
        "d2l.set_figsize()\n"
      ],
      "metadata": {
        "id": "Jpe2LbsTu80q"
      },
      "id": "Jpe2LbsTu80q",
      "execution_count": 38,
      "outputs": []
    },
    {
      "cell_type": "code",
      "source": [
        "npx"
      ],
      "metadata": {
        "id": "31tXzqyGvX3i",
        "outputId": "b2636850-6f9d-48d3-cd83-884a459e2cae",
        "colab": {
          "base_uri": "https://localhost:8080/"
        }
      },
      "id": "31tXzqyGvX3i",
      "execution_count": 40,
      "outputs": [
        {
          "output_type": "execute_result",
          "data": {
            "text/plain": [
              "<module 'mxnet.numpy_extension' from '/usr/local/lib/python3.7/dist-packages/mxnet/numpy_extension/__init__.py'>"
            ]
          },
          "metadata": {},
          "execution_count": 40
        }
      ]
    },
    {
      "cell_type": "code",
      "source": [
        "npx.smooth_l1"
      ],
      "metadata": {
        "id": "ufUcMMySvdAh",
        "outputId": "e833d2f9-795c-495f-f146-2e940ab2e433",
        "colab": {
          "base_uri": "https://localhost:8080/"
        }
      },
      "id": "ufUcMMySvdAh",
      "execution_count": 41,
      "outputs": [
        {
          "output_type": "execute_result",
          "data": {
            "text/plain": [
              "<function mxnet.numpy_extension.smooth_l1>"
            ]
          },
          "metadata": {},
          "execution_count": 41
        }
      ]
    },
    {
      "cell_type": "code",
      "source": [
        "x = np.arange(-2, 2, 0.1)\n",
        "x = np.array(x,dtype=np.float64)\n",
        "for l, s in zip(lines, sigmas):\n",
        "    y = npx.smooth_l1(x, scalar=s)\n",
        "    d2l.plt.plot(x.asnumpy(), y.asnumpy(), l, label='sigma=%.1f' % s)"
      ],
      "metadata": {
        "id": "u-v9yenSvhx6",
        "outputId": "ae01cffe-bc01-4bf0-c473-73821dbe6c85",
        "colab": {
          "base_uri": "https://localhost:8080/",
          "height": 425
        }
      },
      "id": "u-v9yenSvhx6",
      "execution_count": 53,
      "outputs": [
        {
          "output_type": "error",
          "ename": "AssertionError",
          "evalue": "ignored",
          "traceback": [
            "\u001b[0;31m---------------------------------------------------------------------------\u001b[0m",
            "\u001b[0;31mAssertionError\u001b[0m                            Traceback (most recent call last)",
            "\u001b[0;32m<ipython-input-53-86549281c5e8>\u001b[0m in \u001b[0;36m<module>\u001b[0;34m()\u001b[0m\n\u001b[1;32m      2\u001b[0m \u001b[0mx\u001b[0m \u001b[0;34m=\u001b[0m \u001b[0mnp\u001b[0m\u001b[0;34m.\u001b[0m\u001b[0marray\u001b[0m\u001b[0;34m(\u001b[0m\u001b[0mx\u001b[0m\u001b[0;34m,\u001b[0m\u001b[0mdtype\u001b[0m\u001b[0;34m=\u001b[0m\u001b[0mnp\u001b[0m\u001b[0;34m.\u001b[0m\u001b[0mfloat64\u001b[0m\u001b[0;34m)\u001b[0m\u001b[0;34m\u001b[0m\u001b[0;34m\u001b[0m\u001b[0m\n\u001b[1;32m      3\u001b[0m \u001b[0;32mfor\u001b[0m \u001b[0ml\u001b[0m\u001b[0;34m,\u001b[0m \u001b[0ms\u001b[0m \u001b[0;32min\u001b[0m \u001b[0mzip\u001b[0m\u001b[0;34m(\u001b[0m\u001b[0mlines\u001b[0m\u001b[0;34m,\u001b[0m \u001b[0msigmas\u001b[0m\u001b[0;34m)\u001b[0m\u001b[0;34m:\u001b[0m\u001b[0;34m\u001b[0m\u001b[0;34m\u001b[0m\u001b[0m\n\u001b[0;32m----> 4\u001b[0;31m     \u001b[0my\u001b[0m \u001b[0;34m=\u001b[0m \u001b[0mnpx\u001b[0m\u001b[0;34m.\u001b[0m\u001b[0msmooth_l1\u001b[0m\u001b[0;34m(\u001b[0m\u001b[0mx\u001b[0m\u001b[0;34m,\u001b[0m \u001b[0mscalar\u001b[0m\u001b[0;34m=\u001b[0m\u001b[0ms\u001b[0m\u001b[0;34m)\u001b[0m\u001b[0;34m\u001b[0m\u001b[0;34m\u001b[0m\u001b[0m\n\u001b[0m\u001b[1;32m      5\u001b[0m     \u001b[0md2l\u001b[0m\u001b[0;34m.\u001b[0m\u001b[0mplt\u001b[0m\u001b[0;34m.\u001b[0m\u001b[0mplot\u001b[0m\u001b[0;34m(\u001b[0m\u001b[0mx\u001b[0m\u001b[0;34m.\u001b[0m\u001b[0masnumpy\u001b[0m\u001b[0;34m(\u001b[0m\u001b[0;34m)\u001b[0m\u001b[0;34m,\u001b[0m \u001b[0my\u001b[0m\u001b[0;34m.\u001b[0m\u001b[0masnumpy\u001b[0m\u001b[0;34m(\u001b[0m\u001b[0;34m)\u001b[0m\u001b[0;34m,\u001b[0m \u001b[0ml\u001b[0m\u001b[0;34m,\u001b[0m \u001b[0mlabel\u001b[0m\u001b[0;34m=\u001b[0m\u001b[0;34m'sigma=%.1f'\u001b[0m \u001b[0;34m%\u001b[0m \u001b[0ms\u001b[0m\u001b[0;34m)\u001b[0m\u001b[0;34m\u001b[0m\u001b[0;34m\u001b[0m\u001b[0m\n",
            "\u001b[0;32m/usr/local/lib/python3.7/dist-packages/mxnet/ndarray/register.py\u001b[0m in \u001b[0;36msmooth_l1\u001b[0;34m(data, scalar, out, name, **kwargs)\u001b[0m\n",
            "\u001b[0;31mAssertionError\u001b[0m: Argument data must have NDArray type, but got [-2.00000000e+00 -1.90000000e+00 -1.80000000e+00 -1.70000000e+00\n -1.60000000e+00 -1.50000000e+00 -1.40000000e+00 -1.30000000e+00\n -1.20000000e+00 -1.10000000e+00 -1.00000000e+00 -9.00000000e-01\n -8.00000000e-01 -7.00000000e-01 -6.00000000e-01 -5.00000000e-01\n -4.00000000e-01 -3.00000000e-01 -2.00000000e-01 -1.00000000e-01\n  1.77635684e-15  1.00000000e-01  2.00000000e-01  3.00000000e-01\n  4.00000000e-01  5.00000000e-01  6.00000000e-01  7.00000000e-01\n  8.00000000e-01  9.00000000e-01  1.00000000e+00  1.10000000e+00\n  1.20000000e+00  1.30000000e+00  1.40000000e+00  1.50000000e+00\n  1.60000000e+00  1.70000000e+00  1.80000000e+00  1.90000000e+00]"
          ]
        }
      ]
    },
    {
      "cell_type": "code",
      "source": [
        "\n",
        "for l, s in zip(lines, sigmas):\n",
        "    y = npx.smooth_l1(x, scalar=s)\n",
        "    d2l.plt.plot(x.asnumpy(), y.asnumpy(), l, label='sigma=%.1f' % s)"
      ],
      "metadata": {
        "id": "wgQdGA9qvAZy",
        "outputId": "7e2e9774-7544-47a1-f35d-aef820d5b882",
        "colab": {
          "base_uri": "https://localhost:8080/",
          "height": 261
        }
      },
      "id": "wgQdGA9qvAZy",
      "execution_count": 48,
      "outputs": [
        {
          "output_type": "error",
          "ename": "AssertionError",
          "evalue": "ignored",
          "traceback": [
            "\u001b[0;31m---------------------------------------------------------------------------\u001b[0m",
            "\u001b[0;31mAssertionError\u001b[0m                            Traceback (most recent call last)",
            "\u001b[0;32m<ipython-input-48-1535c07845a9>\u001b[0m in \u001b[0;36m<module>\u001b[0;34m()\u001b[0m\n\u001b[1;32m      1\u001b[0m \u001b[0;32mfor\u001b[0m \u001b[0ml\u001b[0m\u001b[0;34m,\u001b[0m \u001b[0ms\u001b[0m \u001b[0;32min\u001b[0m \u001b[0mzip\u001b[0m\u001b[0;34m(\u001b[0m\u001b[0mlines\u001b[0m\u001b[0;34m,\u001b[0m \u001b[0msigmas\u001b[0m\u001b[0;34m)\u001b[0m\u001b[0;34m:\u001b[0m\u001b[0;34m\u001b[0m\u001b[0;34m\u001b[0m\u001b[0m\n\u001b[0;32m----> 2\u001b[0;31m     \u001b[0my\u001b[0m \u001b[0;34m=\u001b[0m \u001b[0mnpx\u001b[0m\u001b[0;34m.\u001b[0m\u001b[0msmooth_l1\u001b[0m\u001b[0;34m(\u001b[0m\u001b[0mx\u001b[0m\u001b[0;34m,\u001b[0m \u001b[0mscalar\u001b[0m\u001b[0;34m=\u001b[0m\u001b[0ms\u001b[0m\u001b[0;34m)\u001b[0m\u001b[0;34m\u001b[0m\u001b[0;34m\u001b[0m\u001b[0m\n\u001b[0m\u001b[1;32m      3\u001b[0m     \u001b[0md2l\u001b[0m\u001b[0;34m.\u001b[0m\u001b[0mplt\u001b[0m\u001b[0;34m.\u001b[0m\u001b[0mplot\u001b[0m\u001b[0;34m(\u001b[0m\u001b[0mx\u001b[0m\u001b[0;34m.\u001b[0m\u001b[0masnumpy\u001b[0m\u001b[0;34m(\u001b[0m\u001b[0;34m)\u001b[0m\u001b[0;34m,\u001b[0m \u001b[0my\u001b[0m\u001b[0;34m.\u001b[0m\u001b[0masnumpy\u001b[0m\u001b[0;34m(\u001b[0m\u001b[0;34m)\u001b[0m\u001b[0;34m,\u001b[0m \u001b[0ml\u001b[0m\u001b[0;34m,\u001b[0m \u001b[0mlabel\u001b[0m\u001b[0;34m=\u001b[0m\u001b[0;34m'sigma=%.1f'\u001b[0m \u001b[0;34m%\u001b[0m \u001b[0ms\u001b[0m\u001b[0;34m)\u001b[0m\u001b[0;34m\u001b[0m\u001b[0;34m\u001b[0m\u001b[0m\n",
            "\u001b[0;32m/usr/local/lib/python3.7/dist-packages/mxnet/ndarray/register.py\u001b[0m in \u001b[0;36msmooth_l1\u001b[0;34m(data, scalar, out, name, **kwargs)\u001b[0m\n",
            "\u001b[0;31mAssertionError\u001b[0m: Argument data must have NDArray type, but got [-2 -1 -1 -1 -1 -1 -1 -1 -1 -1  0  0  0  0  0  0  0  0  0  0  0  0  0  0\n  0  0  0  0  0  0  1  1  1  1  1  1  1  1  1  1]"
          ]
        }
      ]
    },
    {
      "cell_type": "code",
      "source": [
        "for l, s in zip(lines, sigmas):\n",
        "    y = npx.smooth_l1(*x, scalar=s)\n",
        "    d2l.plt.plot(x.asnumpy(), y.asnumpy(), l, label='sigma=%.1f' % s)\n",
        "d2l.plt.legend();"
      ],
      "metadata": {
        "id": "oo1Q8Xh-u-jI"
      },
      "id": "oo1Q8Xh-u-jI",
      "execution_count": null,
      "outputs": []
    },
    {
      "cell_type": "markdown",
      "id": "9fb5f1a7",
      "metadata": {
        "origin_pos": 63,
        "id": "9fb5f1a7"
      },
      "source": [
        "Besides, in the experiment we used cross-entropy loss for class prediction:\n",
        "denoting by $p_j$ the predicted probability for the ground-truth class $j$, the cross-entropy loss is $-\\log p_j$. We can also use the focal loss\n",
        ":cite:`Lin.Goyal.Girshick.ea.2017`: given hyperparameters $\\gamma > 0$\n",
        "and $\\alpha > 0$, this loss is defined as:\n",
        "\n",
        "$$ - \\alpha (1-p_j)^{\\gamma} \\log p_j.$$\n",
        "\n",
        "As we can see, increasing $\\gamma$\n",
        "can effectively reduce the relative loss\n",
        "for well-classified examples (e.g., $p_j > 0.5$)\n",
        "so the training\n",
        "can focus more on those difficult examples that are misclassified.\n"
      ]
    },
    {
      "cell_type": "code",
      "execution_count": null,
      "id": "bd04aa92",
      "metadata": {
        "execution": {
          "iopub.execute_input": "2022-07-13T10:35:59.780756Z",
          "iopub.status.busy": "2022-07-13T10:35:59.780099Z",
          "iopub.status.idle": "2022-07-13T10:35:59.917428Z",
          "shell.execute_reply": "2022-07-13T10:35:59.916384Z"
        },
        "origin_pos": 64,
        "tab": [
          "mxnet"
        ],
        "id": "bd04aa92",
        "outputId": "a2a78df5-2867-4e64-fdef-41f7bed0a754"
      },
      "outputs": [
        {
          "data": {
            "image/svg+xml": [
              "<?xml version=\"1.0\" encoding=\"utf-8\" standalone=\"no\"?>\n",
              "<!DOCTYPE svg PUBLIC \"-//W3C//DTD SVG 1.1//EN\"\n",
              "  \"http://www.w3.org/Graphics/SVG/1.1/DTD/svg11.dtd\">\n",
              "<svg xmlns:xlink=\"http://www.w3.org/1999/xlink\" width=\"223.948487pt\" height=\"166.978125pt\" viewBox=\"0 0 223.948487 166.978125\" xmlns=\"http://www.w3.org/2000/svg\" version=\"1.1\">\n",
              " <metadata>\n",
              "  <rdf:RDF xmlns:dc=\"http://purl.org/dc/elements/1.1/\" xmlns:cc=\"http://creativecommons.org/ns#\" xmlns:rdf=\"http://www.w3.org/1999/02/22-rdf-syntax-ns#\">\n",
              "   <cc:Work>\n",
              "    <dc:type rdf:resource=\"http://purl.org/dc/dcmitype/StillImage\"/>\n",
              "    <dc:date>2022-07-13T10:35:59.875983</dc:date>\n",
              "    <dc:format>image/svg+xml</dc:format>\n",
              "    <dc:creator>\n",
              "     <cc:Agent>\n",
              "      <dc:title>Matplotlib v3.5.2, https://matplotlib.org/</dc:title>\n",
              "     </cc:Agent>\n",
              "    </dc:creator>\n",
              "   </cc:Work>\n",
              "  </rdf:RDF>\n",
              " </metadata>\n",
              " <defs>\n",
              "  <style type=\"text/css\">*{stroke-linejoin: round; stroke-linecap: butt}</style>\n",
              " </defs>\n",
              " <g id=\"figure_1\">\n",
              "  <g id=\"patch_1\">\n",
              "   <path d=\"M 0 166.978125 \n",
              "L 223.948487 166.978125 \n",
              "L 223.948487 0 \n",
              "L 0 0 \n",
              "L 0 166.978125 \n",
              "z\n",
              "\" style=\"fill: none\"/>\n",
              "  </g>\n",
              "  <g id=\"axes_1\">\n",
              "   <g id=\"patch_2\">\n",
              "    <path d=\"M 20.5625 143.1 \n",
              "L 215.8625 143.1 \n",
              "L 215.8625 7.2 \n",
              "L 20.5625 7.2 \n",
              "z\n",
              "\" style=\"fill: #ffffff\"/>\n",
              "   </g>\n",
              "   <g id=\"matplotlib.axis_1\">\n",
              "    <g id=\"xtick_1\">\n",
              "     <g id=\"line2d_1\">\n",
              "      <defs>\n",
              "       <path id=\"m6d2c97e0a4\" d=\"M 0 0 \n",
              "L 0 3.5 \n",
              "\" style=\"stroke: #000000; stroke-width: 0.8\"/>\n",
              "      </defs>\n",
              "      <g>\n",
              "       <use xlink:href=\"#m6d2c97e0a4\" x=\"27.628084\" y=\"143.1\" style=\"stroke: #000000; stroke-width: 0.8\"/>\n",
              "      </g>\n",
              "     </g>\n",
              "     <g id=\"text_1\">\n",
              "      <!-- 0.0 -->\n",
              "      <g transform=\"translate(19.676522 157.698438)scale(0.1 -0.1)\">\n",
              "       <defs>\n",
              "        <path id=\"DejaVuSans-30\" d=\"M 2034 4250 \n",
              "Q 1547 4250 1301 3770 \n",
              "Q 1056 3291 1056 2328 \n",
              "Q 1056 1369 1301 889 \n",
              "Q 1547 409 2034 409 \n",
              "Q 2525 409 2770 889 \n",
              "Q 3016 1369 3016 2328 \n",
              "Q 3016 3291 2770 3770 \n",
              "Q 2525 4250 2034 4250 \n",
              "z\n",
              "M 2034 4750 \n",
              "Q 2819 4750 3233 4129 \n",
              "Q 3647 3509 3647 2328 \n",
              "Q 3647 1150 3233 529 \n",
              "Q 2819 -91 2034 -91 \n",
              "Q 1250 -91 836 529 \n",
              "Q 422 1150 422 2328 \n",
              "Q 422 3509 836 4129 \n",
              "Q 1250 4750 2034 4750 \n",
              "z\n",
              "\" transform=\"scale(0.015625)\"/>\n",
              "        <path id=\"DejaVuSans-2e\" d=\"M 684 794 \n",
              "L 1344 794 \n",
              "L 1344 0 \n",
              "L 684 0 \n",
              "L 684 794 \n",
              "z\n",
              "\" transform=\"scale(0.015625)\"/>\n",
              "       </defs>\n",
              "       <use xlink:href=\"#DejaVuSans-30\"/>\n",
              "       <use xlink:href=\"#DejaVuSans-2e\" x=\"63.623047\"/>\n",
              "       <use xlink:href=\"#DejaVuSans-30\" x=\"95.410156\"/>\n",
              "      </g>\n",
              "     </g>\n",
              "    </g>\n",
              "    <g id=\"xtick_2\">\n",
              "     <g id=\"line2d_2\">\n",
              "      <g>\n",
              "       <use xlink:href=\"#m6d2c97e0a4\" x=\"63.861852\" y=\"143.1\" style=\"stroke: #000000; stroke-width: 0.8\"/>\n",
              "      </g>\n",
              "     </g>\n",
              "     <g id=\"text_2\">\n",
              "      <!-- 0.2 -->\n",
              "      <g transform=\"translate(55.91029 157.698438)scale(0.1 -0.1)\">\n",
              "       <defs>\n",
              "        <path id=\"DejaVuSans-32\" d=\"M 1228 531 \n",
              "L 3431 531 \n",
              "L 3431 0 \n",
              "L 469 0 \n",
              "L 469 531 \n",
              "Q 828 903 1448 1529 \n",
              "Q 2069 2156 2228 2338 \n",
              "Q 2531 2678 2651 2914 \n",
              "Q 2772 3150 2772 3378 \n",
              "Q 2772 3750 2511 3984 \n",
              "Q 2250 4219 1831 4219 \n",
              "Q 1534 4219 1204 4116 \n",
              "Q 875 4013 500 3803 \n",
              "L 500 4441 \n",
              "Q 881 4594 1212 4672 \n",
              "Q 1544 4750 1819 4750 \n",
              "Q 2544 4750 2975 4387 \n",
              "Q 3406 4025 3406 3419 \n",
              "Q 3406 3131 3298 2873 \n",
              "Q 3191 2616 2906 2266 \n",
              "Q 2828 2175 2409 1742 \n",
              "Q 1991 1309 1228 531 \n",
              "z\n",
              "\" transform=\"scale(0.015625)\"/>\n",
              "       </defs>\n",
              "       <use xlink:href=\"#DejaVuSans-30\"/>\n",
              "       <use xlink:href=\"#DejaVuSans-2e\" x=\"63.623047\"/>\n",
              "       <use xlink:href=\"#DejaVuSans-32\" x=\"95.410156\"/>\n",
              "      </g>\n",
              "     </g>\n",
              "    </g>\n",
              "    <g id=\"xtick_3\">\n",
              "     <g id=\"line2d_3\">\n",
              "      <g>\n",
              "       <use xlink:href=\"#m6d2c97e0a4\" x=\"100.095621\" y=\"143.1\" style=\"stroke: #000000; stroke-width: 0.8\"/>\n",
              "      </g>\n",
              "     </g>\n",
              "     <g id=\"text_3\">\n",
              "      <!-- 0.4 -->\n",
              "      <g transform=\"translate(92.144058 157.698438)scale(0.1 -0.1)\">\n",
              "       <defs>\n",
              "        <path id=\"DejaVuSans-34\" d=\"M 2419 4116 \n",
              "L 825 1625 \n",
              "L 2419 1625 \n",
              "L 2419 4116 \n",
              "z\n",
              "M 2253 4666 \n",
              "L 3047 4666 \n",
              "L 3047 1625 \n",
              "L 3713 1625 \n",
              "L 3713 1100 \n",
              "L 3047 1100 \n",
              "L 3047 0 \n",
              "L 2419 0 \n",
              "L 2419 1100 \n",
              "L 313 1100 \n",
              "L 313 1709 \n",
              "L 2253 4666 \n",
              "z\n",
              "\" transform=\"scale(0.015625)\"/>\n",
              "       </defs>\n",
              "       <use xlink:href=\"#DejaVuSans-30\"/>\n",
              "       <use xlink:href=\"#DejaVuSans-2e\" x=\"63.623047\"/>\n",
              "       <use xlink:href=\"#DejaVuSans-34\" x=\"95.410156\"/>\n",
              "      </g>\n",
              "     </g>\n",
              "    </g>\n",
              "    <g id=\"xtick_4\">\n",
              "     <g id=\"line2d_4\">\n",
              "      <g>\n",
              "       <use xlink:href=\"#m6d2c97e0a4\" x=\"136.329389\" y=\"143.1\" style=\"stroke: #000000; stroke-width: 0.8\"/>\n",
              "      </g>\n",
              "     </g>\n",
              "     <g id=\"text_4\">\n",
              "      <!-- 0.6 -->\n",
              "      <g transform=\"translate(128.377826 157.698438)scale(0.1 -0.1)\">\n",
              "       <defs>\n",
              "        <path id=\"DejaVuSans-36\" d=\"M 2113 2584 \n",
              "Q 1688 2584 1439 2293 \n",
              "Q 1191 2003 1191 1497 \n",
              "Q 1191 994 1439 701 \n",
              "Q 1688 409 2113 409 \n",
              "Q 2538 409 2786 701 \n",
              "Q 3034 994 3034 1497 \n",
              "Q 3034 2003 2786 2293 \n",
              "Q 2538 2584 2113 2584 \n",
              "z\n",
              "M 3366 4563 \n",
              "L 3366 3988 \n",
              "Q 3128 4100 2886 4159 \n",
              "Q 2644 4219 2406 4219 \n",
              "Q 1781 4219 1451 3797 \n",
              "Q 1122 3375 1075 2522 \n",
              "Q 1259 2794 1537 2939 \n",
              "Q 1816 3084 2150 3084 \n",
              "Q 2853 3084 3261 2657 \n",
              "Q 3669 2231 3669 1497 \n",
              "Q 3669 778 3244 343 \n",
              "Q 2819 -91 2113 -91 \n",
              "Q 1303 -91 875 529 \n",
              "Q 447 1150 447 2328 \n",
              "Q 447 3434 972 4092 \n",
              "Q 1497 4750 2381 4750 \n",
              "Q 2619 4750 2861 4703 \n",
              "Q 3103 4656 3366 4563 \n",
              "z\n",
              "\" transform=\"scale(0.015625)\"/>\n",
              "       </defs>\n",
              "       <use xlink:href=\"#DejaVuSans-30\"/>\n",
              "       <use xlink:href=\"#DejaVuSans-2e\" x=\"63.623047\"/>\n",
              "       <use xlink:href=\"#DejaVuSans-36\" x=\"95.410156\"/>\n",
              "      </g>\n",
              "     </g>\n",
              "    </g>\n",
              "    <g id=\"xtick_5\">\n",
              "     <g id=\"line2d_5\">\n",
              "      <g>\n",
              "       <use xlink:href=\"#m6d2c97e0a4\" x=\"172.563157\" y=\"143.1\" style=\"stroke: #000000; stroke-width: 0.8\"/>\n",
              "      </g>\n",
              "     </g>\n",
              "     <g id=\"text_5\">\n",
              "      <!-- 0.8 -->\n",
              "      <g transform=\"translate(164.611594 157.698438)scale(0.1 -0.1)\">\n",
              "       <defs>\n",
              "        <path id=\"DejaVuSans-38\" d=\"M 2034 2216 \n",
              "Q 1584 2216 1326 1975 \n",
              "Q 1069 1734 1069 1313 \n",
              "Q 1069 891 1326 650 \n",
              "Q 1584 409 2034 409 \n",
              "Q 2484 409 2743 651 \n",
              "Q 3003 894 3003 1313 \n",
              "Q 3003 1734 2745 1975 \n",
              "Q 2488 2216 2034 2216 \n",
              "z\n",
              "M 1403 2484 \n",
              "Q 997 2584 770 2862 \n",
              "Q 544 3141 544 3541 \n",
              "Q 544 4100 942 4425 \n",
              "Q 1341 4750 2034 4750 \n",
              "Q 2731 4750 3128 4425 \n",
              "Q 3525 4100 3525 3541 \n",
              "Q 3525 3141 3298 2862 \n",
              "Q 3072 2584 2669 2484 \n",
              "Q 3125 2378 3379 2068 \n",
              "Q 3634 1759 3634 1313 \n",
              "Q 3634 634 3220 271 \n",
              "Q 2806 -91 2034 -91 \n",
              "Q 1263 -91 848 271 \n",
              "Q 434 634 434 1313 \n",
              "Q 434 1759 690 2068 \n",
              "Q 947 2378 1403 2484 \n",
              "z\n",
              "M 1172 3481 \n",
              "Q 1172 3119 1398 2916 \n",
              "Q 1625 2713 2034 2713 \n",
              "Q 2441 2713 2670 2916 \n",
              "Q 2900 3119 2900 3481 \n",
              "Q 2900 3844 2670 4047 \n",
              "Q 2441 4250 2034 4250 \n",
              "Q 1625 4250 1398 4047 \n",
              "Q 1172 3844 1172 3481 \n",
              "z\n",
              "\" transform=\"scale(0.015625)\"/>\n",
              "       </defs>\n",
              "       <use xlink:href=\"#DejaVuSans-30\"/>\n",
              "       <use xlink:href=\"#DejaVuSans-2e\" x=\"63.623047\"/>\n",
              "       <use xlink:href=\"#DejaVuSans-38\" x=\"95.410156\"/>\n",
              "      </g>\n",
              "     </g>\n",
              "    </g>\n",
              "    <g id=\"xtick_6\">\n",
              "     <g id=\"line2d_6\">\n",
              "      <g>\n",
              "       <use xlink:href=\"#m6d2c97e0a4\" x=\"208.796925\" y=\"143.1\" style=\"stroke: #000000; stroke-width: 0.8\"/>\n",
              "      </g>\n",
              "     </g>\n",
              "     <g id=\"text_6\">\n",
              "      <!-- 1.0 -->\n",
              "      <g transform=\"translate(200.845362 157.698438)scale(0.1 -0.1)\">\n",
              "       <defs>\n",
              "        <path id=\"DejaVuSans-31\" d=\"M 794 531 \n",
              "L 1825 531 \n",
              "L 1825 4091 \n",
              "L 703 3866 \n",
              "L 703 4441 \n",
              "L 1819 4666 \n",
              "L 2450 4666 \n",
              "L 2450 531 \n",
              "L 3481 531 \n",
              "L 3481 0 \n",
              "L 794 0 \n",
              "L 794 531 \n",
              "z\n",
              "\" transform=\"scale(0.015625)\"/>\n",
              "       </defs>\n",
              "       <use xlink:href=\"#DejaVuSans-31\"/>\n",
              "       <use xlink:href=\"#DejaVuSans-2e\" x=\"63.623047\"/>\n",
              "       <use xlink:href=\"#DejaVuSans-30\" x=\"95.410156\"/>\n",
              "      </g>\n",
              "     </g>\n",
              "    </g>\n",
              "   </g>\n",
              "   <g id=\"matplotlib.axis_2\">\n",
              "    <g id=\"ytick_1\">\n",
              "     <g id=\"line2d_7\">\n",
              "      <defs>\n",
              "       <path id=\"m6d930cb561\" d=\"M 0 0 \n",
              "L -3.5 0 \n",
              "\" style=\"stroke: #000000; stroke-width: 0.8\"/>\n",
              "      </defs>\n",
              "      <g>\n",
              "       <use xlink:href=\"#m6d930cb561\" x=\"20.5625\" y=\"136.922727\" style=\"stroke: #000000; stroke-width: 0.8\"/>\n",
              "      </g>\n",
              "     </g>\n",
              "     <g id=\"text_7\">\n",
              "      <!-- 0 -->\n",
              "      <g transform=\"translate(7.2 140.721946)scale(0.1 -0.1)\">\n",
              "       <use xlink:href=\"#DejaVuSans-30\"/>\n",
              "      </g>\n",
              "     </g>\n",
              "    </g>\n",
              "    <g id=\"ytick_2\">\n",
              "     <g id=\"line2d_8\">\n",
              "      <g>\n",
              "       <use xlink:href=\"#m6d930cb561\" x=\"20.5625\" y=\"110.095173\" style=\"stroke: #000000; stroke-width: 0.8\"/>\n",
              "      </g>\n",
              "     </g>\n",
              "     <g id=\"text_8\">\n",
              "      <!-- 1 -->\n",
              "      <g transform=\"translate(7.2 113.894392)scale(0.1 -0.1)\">\n",
              "       <use xlink:href=\"#DejaVuSans-31\"/>\n",
              "      </g>\n",
              "     </g>\n",
              "    </g>\n",
              "    <g id=\"ytick_3\">\n",
              "     <g id=\"line2d_9\">\n",
              "      <g>\n",
              "       <use xlink:href=\"#m6d930cb561\" x=\"20.5625\" y=\"83.267619\" style=\"stroke: #000000; stroke-width: 0.8\"/>\n",
              "      </g>\n",
              "     </g>\n",
              "     <g id=\"text_9\">\n",
              "      <!-- 2 -->\n",
              "      <g transform=\"translate(7.2 87.066838)scale(0.1 -0.1)\">\n",
              "       <use xlink:href=\"#DejaVuSans-32\"/>\n",
              "      </g>\n",
              "     </g>\n",
              "    </g>\n",
              "    <g id=\"ytick_4\">\n",
              "     <g id=\"line2d_10\">\n",
              "      <g>\n",
              "       <use xlink:href=\"#m6d930cb561\" x=\"20.5625\" y=\"56.440065\" style=\"stroke: #000000; stroke-width: 0.8\"/>\n",
              "      </g>\n",
              "     </g>\n",
              "     <g id=\"text_10\">\n",
              "      <!-- 3 -->\n",
              "      <g transform=\"translate(7.2 60.239283)scale(0.1 -0.1)\">\n",
              "       <defs>\n",
              "        <path id=\"DejaVuSans-33\" d=\"M 2597 2516 \n",
              "Q 3050 2419 3304 2112 \n",
              "Q 3559 1806 3559 1356 \n",
              "Q 3559 666 3084 287 \n",
              "Q 2609 -91 1734 -91 \n",
              "Q 1441 -91 1130 -33 \n",
              "Q 819 25 488 141 \n",
              "L 488 750 \n",
              "Q 750 597 1062 519 \n",
              "Q 1375 441 1716 441 \n",
              "Q 2309 441 2620 675 \n",
              "Q 2931 909 2931 1356 \n",
              "Q 2931 1769 2642 2001 \n",
              "Q 2353 2234 1838 2234 \n",
              "L 1294 2234 \n",
              "L 1294 2753 \n",
              "L 1863 2753 \n",
              "Q 2328 2753 2575 2939 \n",
              "Q 2822 3125 2822 3475 \n",
              "Q 2822 3834 2567 4026 \n",
              "Q 2313 4219 1838 4219 \n",
              "Q 1578 4219 1281 4162 \n",
              "Q 984 4106 628 3988 \n",
              "L 628 4550 \n",
              "Q 988 4650 1302 4700 \n",
              "Q 1616 4750 1894 4750 \n",
              "Q 2613 4750 3031 4423 \n",
              "Q 3450 4097 3450 3541 \n",
              "Q 3450 3153 3228 2886 \n",
              "Q 3006 2619 2597 2516 \n",
              "z\n",
              "\" transform=\"scale(0.015625)\"/>\n",
              "       </defs>\n",
              "       <use xlink:href=\"#DejaVuSans-33\"/>\n",
              "      </g>\n",
              "     </g>\n",
              "    </g>\n",
              "    <g id=\"ytick_5\">\n",
              "     <g id=\"line2d_11\">\n",
              "      <g>\n",
              "       <use xlink:href=\"#m6d930cb561\" x=\"20.5625\" y=\"29.61251\" style=\"stroke: #000000; stroke-width: 0.8\"/>\n",
              "      </g>\n",
              "     </g>\n",
              "     <g id=\"text_11\">\n",
              "      <!-- 4 -->\n",
              "      <g transform=\"translate(7.2 33.411729)scale(0.1 -0.1)\">\n",
              "       <use xlink:href=\"#DejaVuSans-34\"/>\n",
              "      </g>\n",
              "     </g>\n",
              "    </g>\n",
              "   </g>\n",
              "   <g id=\"line2d_12\">\n",
              "    <path d=\"M 29.439773 13.377273 \n",
              "L 31.251461 31.972716 \n",
              "L 33.063149 42.850354 \n",
              "L 34.874838 50.56816 \n",
              "L 36.686526 56.554556 \n",
              "L 38.498214 61.445798 \n",
              "L 40.309903 65.581285 \n",
              "L 42.121591 69.163604 \n",
              "L 43.933279 72.323435 \n",
              "L 45.744967 75.15 \n",
              "L 47.556655 77.70694 \n",
              "L 49.368345 80.041241 \n",
              "L 51.180033 82.188588 \n",
              "L 52.991722 84.176728 \n",
              "L 54.803412 86.027638 \n",
              "L 56.615098 87.759047 \n",
              "L 58.426788 89.38546 \n",
              "L 60.238477 90.918882 \n",
              "L 62.050164 92.369371 \n",
              "L 63.861853 93.745444 \n",
              "L 65.67354 95.054366 \n",
              "L 67.485229 96.302383 \n",
              "L 69.296918 97.494917 \n",
              "L 71.108605 98.636685 \n",
              "L 72.920294 99.73184 \n",
              "L 74.731981 100.784035 \n",
              "L 76.543668 101.796513 \n",
              "L 78.355354 102.772169 \n",
              "L 80.167047 103.713585 \n",
              "L 81.978733 104.623081 \n",
              "L 83.79042 105.502749 \n",
              "L 85.602112 106.354491 \n",
              "L 87.413799 107.180018 \n",
              "L 89.225485 107.980901 \n",
              "L 91.037177 108.758568 \n",
              "L 92.848864 109.514322 \n",
              "L 94.660551 110.249369 \n",
              "L 96.472243 110.964815 \n",
              "L 98.28393 111.661673 \n",
              "L 100.095616 112.340886 \n",
              "L 101.907303 113.003328 \n",
              "L 103.718995 113.649808 \n",
              "L 105.530682 114.281073 \n",
              "L 107.342368 114.897825 \n",
              "L 109.15406 115.500717 \n",
              "L 110.965747 116.090358 \n",
              "L 112.777434 116.667316 \n",
              "L 114.589126 117.232128 \n",
              "L 116.400812 117.785293 \n",
              "L 118.212499 118.327282 \n",
              "L 120.024191 118.85854 \n",
              "L 121.835878 119.379479 \n",
              "L 123.647565 119.890494 \n",
              "L 125.459251 120.391959 \n",
              "L 127.270938 120.88422 \n",
              "L 129.082635 121.367615 \n",
              "L 130.894322 121.842451 \n",
              "L 132.706009 122.309029 \n",
              "L 134.517695 122.76763 \n",
              "L 136.329382 123.218523 \n",
              "L 138.141069 123.661964 \n",
              "L 139.952766 124.098196 \n",
              "L 141.764453 124.527445 \n",
              "L 143.57614 124.949935 \n",
              "L 145.387826 125.365874 \n",
              "L 147.199513 125.775463 \n",
              "L 149.0112 126.178892 \n",
              "L 150.822886 126.576344 \n",
              "L 152.634584 126.967996 \n",
              "L 154.44627 127.35401 \n",
              "L 156.257957 127.734549 \n",
              "L 158.069644 128.109765 \n",
              "L 159.881331 128.479806 \n",
              "L 161.693017 128.844812 \n",
              "L 163.504715 129.204921 \n",
              "L 165.316401 129.560257 \n",
              "L 167.128088 129.910949 \n",
              "L 168.939775 130.257116 \n",
              "L 170.751461 130.598872 \n",
              "L 172.563148 130.93633 \n",
              "L 174.374835 131.269595 \n",
              "L 176.186532 131.598774 \n",
              "L 177.998219 131.92396 \n",
              "L 179.809906 132.245251 \n",
              "L 181.621592 132.562741 \n",
              "L 183.433279 132.876517 \n",
              "L 185.244966 133.186665 \n",
              "L 187.056663 133.49327 \n",
              "L 188.86835 133.79641 \n",
              "L 190.680036 134.096162 \n",
              "L 192.491723 134.392601 \n",
              "L 194.30341 134.685801 \n",
              "L 196.115096 134.975832 \n",
              "L 197.926794 135.262761 \n",
              "L 199.738481 135.546653 \n",
              "L 201.550167 135.827572 \n",
              "L 203.361854 136.10558 \n",
              "L 205.173541 136.380737 \n",
              "L 206.985227 136.6531 \n",
              "\" clip-path=\"url(#pa58561fb44)\" style=\"fill: none; stroke: #1f77b4; stroke-width: 1.5; stroke-linecap: square\"/>\n",
              "   </g>\n",
              "   <g id=\"line2d_13\">\n",
              "    <path d=\"M 29.439773 14.612722 \n",
              "L 31.251461 34.071715 \n",
              "L 33.063149 45.672525 \n",
              "L 34.874838 54.022344 \n",
              "L 36.686526 60.572967 \n",
              "L 38.498214 65.974413 \n",
              "L 40.309903 70.575185 \n",
              "L 42.121591 74.584334 \n",
              "L 43.933279 78.137371 \n",
              "L 45.744967 81.327271 \n",
              "L 47.556655 84.220676 \n",
              "L 49.368345 86.867019 \n",
              "L 51.180033 89.304027 \n",
              "L 52.991722 91.561168 \n",
              "L 54.803412 93.6619 \n",
              "L 56.615098 95.625235 \n",
              "L 58.426788 97.466797 \n",
              "L 60.238477 99.199575 \n",
              "L 62.050164 100.834508 \n",
              "L 63.861853 102.380901 \n",
              "L 65.67354 103.846722 \n",
              "L 67.485229 105.238861 \n",
              "L 69.296918 106.563314 \n",
              "L 71.108605 107.825336 \n",
              "L 72.920294 109.029562 \n",
              "L 74.731981 110.180095 \n",
              "L 76.543668 111.28059 \n",
              "L 78.355354 112.334325 \n",
              "L 80.167047 113.344235 \n",
              "L 81.978733 114.312974 \n",
              "L 83.79042 115.24294 \n",
              "L 85.602112 116.136326 \n",
              "L 87.413799 116.995111 \n",
              "L 89.225485 117.821121 \n",
              "L 91.037177 118.616025 \n",
              "L 92.848864 119.381348 \n",
              "L 94.660551 120.118512 \n",
              "L 96.472243 120.828821 \n",
              "L 98.28393 121.513484 \n",
              "L 100.095616 122.173621 \n",
              "L 101.907303 122.81028 \n",
              "L 103.718995 123.424433 \n",
              "L 105.530682 124.016983 \n",
              "L 107.342368 124.588781 \n",
              "L 109.15406 125.140622 \n",
              "L 110.965747 125.673247 \n",
              "L 112.777434 126.187359 \n",
              "L 114.589126 126.683616 \n",
              "L 116.400812 127.162636 \n",
              "L 118.212499 127.625005 \n",
              "L 120.024191 128.071275 \n",
              "L 121.835878 128.501968 \n",
              "L 123.647565 128.917577 \n",
              "L 125.459251 129.318573 \n",
              "L 127.270938 129.705398 \n",
              "L 129.082635 130.078478 \n",
              "L 130.894322 130.438208 \n",
              "L 132.706009 130.784973 \n",
              "L 134.517695 131.119137 \n",
              "L 136.329382 131.441045 \n",
              "L 138.141069 131.751029 \n",
              "L 139.952766 132.049405 \n",
              "L 141.764453 132.336473 \n",
              "L 143.57614 132.612522 \n",
              "L 145.387826 132.877828 \n",
              "L 147.199513 133.132657 \n",
              "L 149.0112 133.377261 \n",
              "L 150.822886 133.611884 \n",
              "L 152.634584 133.836761 \n",
              "L 154.44627 134.052112 \n",
              "L 156.257957 134.258155 \n",
              "L 158.069644 134.455098 \n",
              "L 159.881331 134.643138 \n",
              "L 161.693017 134.822469 \n",
              "L 163.504715 134.993276 \n",
              "L 165.316401 135.155735 \n",
              "L 167.128088 135.310018 \n",
              "L 168.939775 135.456293 \n",
              "L 170.751461 135.594717 \n",
              "L 172.563148 135.725448 \n",
              "L 174.374835 135.848632 \n",
              "L 176.186532 135.964416 \n",
              "L 177.998219 136.072937 \n",
              "L 179.809906 136.174331 \n",
              "L 181.621592 136.268729 \n",
              "L 183.433279 136.356258 \n",
              "L 185.244966 136.437039 \n",
              "L 187.056663 136.511192 \n",
              "L 188.86835 136.578832 \n",
              "L 190.680036 136.640071 \n",
              "L 192.491723 136.695016 \n",
              "L 194.30341 136.743773 \n",
              "L 196.115096 136.786444 \n",
              "L 197.926794 136.823129 \n",
              "L 199.738481 136.853924 \n",
              "L 201.550167 136.878921 \n",
              "L 203.361854 136.898213 \n",
              "L 205.173541 136.911887 \n",
              "L 206.985227 136.920031 \n",
              "\" clip-path=\"url(#pa58561fb44)\" style=\"fill: none; stroke-dasharray: 5.55,2.4; stroke-dashoffset: 0; stroke: #ff7f0e; stroke-width: 1.5\"/>\n",
              "   </g>\n",
              "   <g id=\"line2d_14\">\n",
              "    <path d=\"M 29.439773 19.432223 \n",
              "L 31.251461 42.056223 \n",
              "L 33.063149 56.139572 \n",
              "L 34.874838 66.511578 \n",
              "L 36.686526 74.735374 \n",
              "L 38.498214 81.529909 \n",
              "L 40.309903 87.291316 \n",
              "L 42.121591 92.263936 \n",
              "L 43.933279 96.610686 \n",
              "L 45.744967 100.446553 \n",
              "L 47.556655 103.856284 \n",
              "L 49.368345 106.904553 \n",
              "L 51.180033 109.642086 \n",
              "L 52.991722 112.109582 \n",
              "L 54.803412 114.340302 \n",
              "L 56.615098 116.361886 \n",
              "L 58.426788 118.197606 \n",
              "L 60.238477 119.86727 \n",
              "L 62.050164 121.387933 \n",
              "L 63.861853 122.774394 \n",
              "L 65.67354 124.039595 \n",
              "L 67.485229 125.194928 \n",
              "L 69.296918 126.250472 \n",
              "L 71.108605 127.215204 \n",
              "L 72.920294 128.097155 \n",
              "L 74.731981 128.903527 \n",
              "L 76.543668 129.64081 \n",
              "L 78.355354 130.314874 \n",
              "L 80.167047 130.931035 \n",
              "L 81.978733 131.494124 \n",
              "L 83.79042 132.008542 \n",
              "L 85.602112 132.478309 \n",
              "L 87.413799 132.907089 \n",
              "L 89.225485 133.298247 \n",
              "L 91.037177 133.654867 \n",
              "L 92.848864 133.979773 \n",
              "L 94.660551 134.275566 \n",
              "L 96.472243 134.544638 \n",
              "L 98.28393 134.789188 \n",
              "L 100.095616 135.011243 \n",
              "L 101.907303 135.212671 \n",
              "L 103.718995 135.395193 \n",
              "L 105.530682 135.560396 \n",
              "L 107.342368 135.709745 \n",
              "L 109.15406 135.844591 \n",
              "L 110.965747 135.966178 \n",
              "L 112.777434 136.075655 \n",
              "L 114.589126 136.174083 \n",
              "L 116.400812 136.262438 \n",
              "L 118.212499 136.34162 \n",
              "L 120.024191 136.412459 \n",
              "L 121.835878 136.475718 \n",
              "L 123.647565 136.532101 \n",
              "L 125.459251 136.582254 \n",
              "L 127.270938 136.626772 \n",
              "L 129.082635 136.666198 \n",
              "L 130.894322 136.701034 \n",
              "L 132.706009 136.731739 \n",
              "L 134.517695 136.758732 \n",
              "L 136.329382 136.782396 \n",
              "L 138.141069 136.803083 \n",
              "L 139.952766 136.821112 \n",
              "L 141.764453 136.836773 \n",
              "L 143.57614 136.850332 \n",
              "L 145.387826 136.862028 \n",
              "L 147.199513 136.872079 \n",
              "L 149.0112 136.880681 \n",
              "L 150.822886 136.888011 \n",
              "L 152.634584 136.894228 \n",
              "L 154.44627 136.899475 \n",
              "L 156.257957 136.903881 \n",
              "L 158.069644 136.90756 \n",
              "L 159.881331 136.910613 \n",
              "L 161.693017 136.91313 \n",
              "L 163.504715 136.91519 \n",
              "L 165.316401 136.916865 \n",
              "L 167.128088 136.918214 \n",
              "L 168.939775 136.919292 \n",
              "L 170.751461 136.920145 \n",
              "L 172.563148 136.920812 \n",
              "L 174.374835 136.921327 \n",
              "L 176.186532 136.921721 \n",
              "L 177.998219 136.922018 \n",
              "L 179.809906 136.922237 \n",
              "L 181.621592 136.922396 \n",
              "L 183.433279 136.92251 \n",
              "L 185.244966 136.922589 \n",
              "L 187.056663 136.922642 \n",
              "L 188.86835 136.922677 \n",
              "L 190.680036 136.922699 \n",
              "L 192.491723 136.922712 \n",
              "L 194.30341 136.92272 \n",
              "L 196.115096 136.922724 \n",
              "L 197.926794 136.922726 \n",
              "L 199.738481 136.922727 \n",
              "L 201.550167 136.922727 \n",
              "L 203.361854 136.922727 \n",
              "L 205.173541 136.922727 \n",
              "L 206.985227 136.922727 \n",
              "\" clip-path=\"url(#pa58561fb44)\" style=\"fill: none; stroke-dasharray: 9.6,2.4,1.5,2.4; stroke-dashoffset: 0; stroke: #2ca02c; stroke-width: 1.5\"/>\n",
              "   </g>\n",
              "   <g id=\"patch_3\">\n",
              "    <path d=\"M 20.5625 143.1 \n",
              "L 20.5625 7.2 \n",
              "\" style=\"fill: none; stroke: #000000; stroke-width: 0.8; stroke-linejoin: miter; stroke-linecap: square\"/>\n",
              "   </g>\n",
              "   <g id=\"patch_4\">\n",
              "    <path d=\"M 215.8625 143.1 \n",
              "L 215.8625 7.2 \n",
              "\" style=\"fill: none; stroke: #000000; stroke-width: 0.8; stroke-linejoin: miter; stroke-linecap: square\"/>\n",
              "   </g>\n",
              "   <g id=\"patch_5\">\n",
              "    <path d=\"M 20.5625 143.1 \n",
              "L 215.8625 143.1 \n",
              "\" style=\"fill: none; stroke: #000000; stroke-width: 0.8; stroke-linejoin: miter; stroke-linecap: square\"/>\n",
              "   </g>\n",
              "   <g id=\"patch_6\">\n",
              "    <path d=\"M 20.5625 7.2 \n",
              "L 215.8625 7.2 \n",
              "\" style=\"fill: none; stroke: #000000; stroke-width: 0.8; stroke-linejoin: miter; stroke-linecap: square\"/>\n",
              "   </g>\n",
              "   <g id=\"legend_1\">\n",
              "    <g id=\"patch_7\">\n",
              "     <path d=\"M 114.49375 59.234375 \n",
              "L 208.8625 59.234375 \n",
              "Q 210.8625 59.234375 210.8625 57.234375 \n",
              "L 210.8625 14.2 \n",
              "Q 210.8625 12.2 208.8625 12.2 \n",
              "L 114.49375 12.2 \n",
              "Q 112.49375 12.2 112.49375 14.2 \n",
              "L 112.49375 57.234375 \n",
              "Q 112.49375 59.234375 114.49375 59.234375 \n",
              "z\n",
              "\" style=\"fill: #ffffff; opacity: 0.8; stroke: #cccccc; stroke-linejoin: miter\"/>\n",
              "    </g>\n",
              "    <g id=\"line2d_15\">\n",
              "     <path d=\"M 116.49375 20.298438 \n",
              "L 126.49375 20.298438 \n",
              "L 136.49375 20.298438 \n",
              "\" style=\"fill: none; stroke: #1f77b4; stroke-width: 1.5; stroke-linecap: square\"/>\n",
              "    </g>\n",
              "    <g id=\"text_12\">\n",
              "     <!-- gamma=0.0 -->\n",
              "     <g transform=\"translate(144.49375 23.798438)scale(0.1 -0.1)\">\n",
              "      <defs>\n",
              "       <path id=\"DejaVuSans-67\" d=\"M 2906 1791 \n",
              "Q 2906 2416 2648 2759 \n",
              "Q 2391 3103 1925 3103 \n",
              "Q 1463 3103 1205 2759 \n",
              "Q 947 2416 947 1791 \n",
              "Q 947 1169 1205 825 \n",
              "Q 1463 481 1925 481 \n",
              "Q 2391 481 2648 825 \n",
              "Q 2906 1169 2906 1791 \n",
              "z\n",
              "M 3481 434 \n",
              "Q 3481 -459 3084 -895 \n",
              "Q 2688 -1331 1869 -1331 \n",
              "Q 1566 -1331 1297 -1286 \n",
              "Q 1028 -1241 775 -1147 \n",
              "L 775 -588 \n",
              "Q 1028 -725 1275 -790 \n",
              "Q 1522 -856 1778 -856 \n",
              "Q 2344 -856 2625 -561 \n",
              "Q 2906 -266 2906 331 \n",
              "L 2906 616 \n",
              "Q 2728 306 2450 153 \n",
              "Q 2172 0 1784 0 \n",
              "Q 1141 0 747 490 \n",
              "Q 353 981 353 1791 \n",
              "Q 353 2603 747 3093 \n",
              "Q 1141 3584 1784 3584 \n",
              "Q 2172 3584 2450 3431 \n",
              "Q 2728 3278 2906 2969 \n",
              "L 2906 3500 \n",
              "L 3481 3500 \n",
              "L 3481 434 \n",
              "z\n",
              "\" transform=\"scale(0.015625)\"/>\n",
              "       <path id=\"DejaVuSans-61\" d=\"M 2194 1759 \n",
              "Q 1497 1759 1228 1600 \n",
              "Q 959 1441 959 1056 \n",
              "Q 959 750 1161 570 \n",
              "Q 1363 391 1709 391 \n",
              "Q 2188 391 2477 730 \n",
              "Q 2766 1069 2766 1631 \n",
              "L 2766 1759 \n",
              "L 2194 1759 \n",
              "z\n",
              "M 3341 1997 \n",
              "L 3341 0 \n",
              "L 2766 0 \n",
              "L 2766 531 \n",
              "Q 2569 213 2275 61 \n",
              "Q 1981 -91 1556 -91 \n",
              "Q 1019 -91 701 211 \n",
              "Q 384 513 384 1019 \n",
              "Q 384 1609 779 1909 \n",
              "Q 1175 2209 1959 2209 \n",
              "L 2766 2209 \n",
              "L 2766 2266 \n",
              "Q 2766 2663 2505 2880 \n",
              "Q 2244 3097 1772 3097 \n",
              "Q 1472 3097 1187 3025 \n",
              "Q 903 2953 641 2809 \n",
              "L 641 3341 \n",
              "Q 956 3463 1253 3523 \n",
              "Q 1550 3584 1831 3584 \n",
              "Q 2591 3584 2966 3190 \n",
              "Q 3341 2797 3341 1997 \n",
              "z\n",
              "\" transform=\"scale(0.015625)\"/>\n",
              "       <path id=\"DejaVuSans-6d\" d=\"M 3328 2828 \n",
              "Q 3544 3216 3844 3400 \n",
              "Q 4144 3584 4550 3584 \n",
              "Q 5097 3584 5394 3201 \n",
              "Q 5691 2819 5691 2113 \n",
              "L 5691 0 \n",
              "L 5113 0 \n",
              "L 5113 2094 \n",
              "Q 5113 2597 4934 2840 \n",
              "Q 4756 3084 4391 3084 \n",
              "Q 3944 3084 3684 2787 \n",
              "Q 3425 2491 3425 1978 \n",
              "L 3425 0 \n",
              "L 2847 0 \n",
              "L 2847 2094 \n",
              "Q 2847 2600 2669 2842 \n",
              "Q 2491 3084 2119 3084 \n",
              "Q 1678 3084 1418 2786 \n",
              "Q 1159 2488 1159 1978 \n",
              "L 1159 0 \n",
              "L 581 0 \n",
              "L 581 3500 \n",
              "L 1159 3500 \n",
              "L 1159 2956 \n",
              "Q 1356 3278 1631 3431 \n",
              "Q 1906 3584 2284 3584 \n",
              "Q 2666 3584 2933 3390 \n",
              "Q 3200 3197 3328 2828 \n",
              "z\n",
              "\" transform=\"scale(0.015625)\"/>\n",
              "       <path id=\"DejaVuSans-3d\" d=\"M 678 2906 \n",
              "L 4684 2906 \n",
              "L 4684 2381 \n",
              "L 678 2381 \n",
              "L 678 2906 \n",
              "z\n",
              "M 678 1631 \n",
              "L 4684 1631 \n",
              "L 4684 1100 \n",
              "L 678 1100 \n",
              "L 678 1631 \n",
              "z\n",
              "\" transform=\"scale(0.015625)\"/>\n",
              "      </defs>\n",
              "      <use xlink:href=\"#DejaVuSans-67\"/>\n",
              "      <use xlink:href=\"#DejaVuSans-61\" x=\"63.476562\"/>\n",
              "      <use xlink:href=\"#DejaVuSans-6d\" x=\"124.755859\"/>\n",
              "      <use xlink:href=\"#DejaVuSans-6d\" x=\"222.167969\"/>\n",
              "      <use xlink:href=\"#DejaVuSans-61\" x=\"319.580078\"/>\n",
              "      <use xlink:href=\"#DejaVuSans-3d\" x=\"380.859375\"/>\n",
              "      <use xlink:href=\"#DejaVuSans-30\" x=\"464.648438\"/>\n",
              "      <use xlink:href=\"#DejaVuSans-2e\" x=\"528.271484\"/>\n",
              "      <use xlink:href=\"#DejaVuSans-30\" x=\"560.058594\"/>\n",
              "     </g>\n",
              "    </g>\n",
              "    <g id=\"line2d_16\">\n",
              "     <path d=\"M 116.49375 34.976562 \n",
              "L 126.49375 34.976562 \n",
              "L 136.49375 34.976562 \n",
              "\" style=\"fill: none; stroke-dasharray: 5.55,2.4; stroke-dashoffset: 0; stroke: #ff7f0e; stroke-width: 1.5\"/>\n",
              "    </g>\n",
              "    <g id=\"text_13\">\n",
              "     <!-- gamma=1.0 -->\n",
              "     <g transform=\"translate(144.49375 38.476562)scale(0.1 -0.1)\">\n",
              "      <use xlink:href=\"#DejaVuSans-67\"/>\n",
              "      <use xlink:href=\"#DejaVuSans-61\" x=\"63.476562\"/>\n",
              "      <use xlink:href=\"#DejaVuSans-6d\" x=\"124.755859\"/>\n",
              "      <use xlink:href=\"#DejaVuSans-6d\" x=\"222.167969\"/>\n",
              "      <use xlink:href=\"#DejaVuSans-61\" x=\"319.580078\"/>\n",
              "      <use xlink:href=\"#DejaVuSans-3d\" x=\"380.859375\"/>\n",
              "      <use xlink:href=\"#DejaVuSans-31\" x=\"464.648438\"/>\n",
              "      <use xlink:href=\"#DejaVuSans-2e\" x=\"528.271484\"/>\n",
              "      <use xlink:href=\"#DejaVuSans-30\" x=\"560.058594\"/>\n",
              "     </g>\n",
              "    </g>\n",
              "    <g id=\"line2d_17\">\n",
              "     <path d=\"M 116.49375 49.654688 \n",
              "L 126.49375 49.654688 \n",
              "L 136.49375 49.654688 \n",
              "\" style=\"fill: none; stroke-dasharray: 9.6,2.4,1.5,2.4; stroke-dashoffset: 0; stroke: #2ca02c; stroke-width: 1.5\"/>\n",
              "    </g>\n",
              "    <g id=\"text_14\">\n",
              "     <!-- gamma=5.0 -->\n",
              "     <g transform=\"translate(144.49375 53.154688)scale(0.1 -0.1)\">\n",
              "      <defs>\n",
              "       <path id=\"DejaVuSans-35\" d=\"M 691 4666 \n",
              "L 3169 4666 \n",
              "L 3169 4134 \n",
              "L 1269 4134 \n",
              "L 1269 2991 \n",
              "Q 1406 3038 1543 3061 \n",
              "Q 1681 3084 1819 3084 \n",
              "Q 2600 3084 3056 2656 \n",
              "Q 3513 2228 3513 1497 \n",
              "Q 3513 744 3044 326 \n",
              "Q 2575 -91 1722 -91 \n",
              "Q 1428 -91 1123 -41 \n",
              "Q 819 9 494 109 \n",
              "L 494 744 \n",
              "Q 775 591 1075 516 \n",
              "Q 1375 441 1709 441 \n",
              "Q 2250 441 2565 725 \n",
              "Q 2881 1009 2881 1497 \n",
              "Q 2881 1984 2565 2268 \n",
              "Q 2250 2553 1709 2553 \n",
              "Q 1456 2553 1204 2497 \n",
              "Q 953 2441 691 2322 \n",
              "L 691 4666 \n",
              "z\n",
              "\" transform=\"scale(0.015625)\"/>\n",
              "      </defs>\n",
              "      <use xlink:href=\"#DejaVuSans-67\"/>\n",
              "      <use xlink:href=\"#DejaVuSans-61\" x=\"63.476562\"/>\n",
              "      <use xlink:href=\"#DejaVuSans-6d\" x=\"124.755859\"/>\n",
              "      <use xlink:href=\"#DejaVuSans-6d\" x=\"222.167969\"/>\n",
              "      <use xlink:href=\"#DejaVuSans-61\" x=\"319.580078\"/>\n",
              "      <use xlink:href=\"#DejaVuSans-3d\" x=\"380.859375\"/>\n",
              "      <use xlink:href=\"#DejaVuSans-35\" x=\"464.648438\"/>\n",
              "      <use xlink:href=\"#DejaVuSans-2e\" x=\"528.271484\"/>\n",
              "      <use xlink:href=\"#DejaVuSans-30\" x=\"560.058594\"/>\n",
              "     </g>\n",
              "    </g>\n",
              "   </g>\n",
              "  </g>\n",
              " </g>\n",
              " <defs>\n",
              "  <clipPath id=\"pa58561fb44\">\n",
              "   <rect x=\"20.5625\" y=\"7.2\" width=\"195.3\" height=\"135.9\"/>\n",
              "  </clipPath>\n",
              " </defs>\n",
              "</svg>\n"
            ],
            "text/plain": [
              "<Figure size 252x180 with 1 Axes>"
            ]
          },
          "metadata": {
            "needs_background": "light"
          },
          "output_type": "display_data"
        }
      ],
      "source": [
        "def focal_loss(gamma, x):\n",
        "    return -(1 - x) ** gamma * np.log(x)\n",
        "\n",
        "x = np.arange(0.01, 1, 0.01)\n",
        "for l, gamma in zip(lines, [0, 1, 5]):\n",
        "    y = d2l.plt.plot(x.asnumpy(), focal_loss(gamma, x).asnumpy(), l,\n",
        "                     label='gamma=%.1f' % gamma)\n",
        "d2l.plt.legend();"
      ]
    },
    {
      "cell_type": "markdown",
      "id": "a3dd8eea",
      "metadata": {
        "origin_pos": 66,
        "id": "a3dd8eea"
      },
      "source": [
        "2. Due to space limitations, we have omitted some implementation details of the single shot multibox detection model in this section. Can you further improve the model in the following aspects:\n",
        "    1. When an object is much smaller compared with the image, the model could resize the input image bigger.\n",
        "    1. There are typically a vast number of negative anchor boxes. To make the class distribution more balanced, we could downsample negative anchor boxes.\n",
        "    1. In the loss function, assign different weight hyperparameters to the class loss and the offset loss.\n",
        "    1. Use other methods to evaluate the object detection model, such as those in the single shot multibox detection paper :cite:`Liu.Anguelov.Erhan.ea.2016`.\n"
      ]
    },
    {
      "cell_type": "markdown",
      "id": "b6326849",
      "metadata": {
        "origin_pos": 67,
        "tab": [
          "mxnet"
        ],
        "id": "b6326849"
      },
      "source": [
        "[Discussions](https://discuss.d2l.ai/t/373)\n"
      ]
    }
  ],
  "metadata": {
    "accelerator": "GPU",
    "kernelspec": {
      "display_name": "Python 3",
      "name": "python3"
    },
    "language_info": {
      "name": "python"
    },
    "colab": {
      "name": "ssd.ipynb",
      "provenance": [],
      "include_colab_link": true
    }
  },
  "nbformat": 4,
  "nbformat_minor": 5
}